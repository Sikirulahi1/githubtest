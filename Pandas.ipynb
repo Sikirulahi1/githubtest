{
 "cells": [
  {
   "cell_type": "markdown",
   "id": "6d1d975f",
   "metadata": {},
   "source": [
    "# Pandas"
   ]
  },
  {
   "cell_type": "markdown",
   "id": "543e63f8",
   "metadata": {},
   "source": [
    "Pandas is an open source, BSD-licenced library providing high-performance, easy-to-use data structures and data-analysis tools for the python programming language"
   ]
  },
  {
   "cell_type": "code",
   "execution_count": 1,
   "id": "f7047523",
   "metadata": {},
   "outputs": [
    {
     "name": "stdout",
     "output_type": "stream",
     "text": [
      "Requirement already satisfied: pandas in c:\\programdata\\anaconda3\\lib\\site-packages (1.3.4)\n",
      "Requirement already satisfied: numpy>=1.17.3 in c:\\programdata\\anaconda3\\lib\\site-packages (from pandas) (1.20.3)\n",
      "Requirement already satisfied: pytz>=2017.3 in c:\\programdata\\anaconda3\\lib\\site-packages (from pandas) (2021.3)\n",
      "Requirement already satisfied: python-dateutil>=2.7.3 in c:\\programdata\\anaconda3\\lib\\site-packages (from pandas) (2.8.2)\n",
      "Requirement already satisfied: six>=1.5 in c:\\programdata\\anaconda3\\lib\\site-packages (from python-dateutil>=2.7.3->pandas) (1.16.0)\n"
     ]
    }
   ],
   "source": [
    "# for installing pandas library\n",
    "\n",
    "!pip install pandas"
   ]
  },
  {
   "cell_type": "code",
   "execution_count": 7,
   "id": "a5ba77cc",
   "metadata": {},
   "outputs": [],
   "source": [
    "import pandas as pd"
   ]
  },
  {
   "cell_type": "markdown",
   "id": "6429eb6c",
   "metadata": {},
   "source": [
    "# Series"
   ]
  },
  {
   "cell_type": "code",
   "execution_count": 20,
   "id": "c6ccc7ee",
   "metadata": {},
   "outputs": [
    {
     "name": "stdout",
     "output_type": "stream",
     "text": [
      "series:\n",
      "0    l\n",
      "1    u\n",
      "2    t\n",
      "3    h\n",
      "4    o\n",
      "5    r\n",
      "dtype: object\n",
      "type: <class 'pandas.core.series.Series'>\n"
     ]
    }
   ],
   "source": [
    " # Creating series from tuple\n",
    "character_series = pd.Series(('l', 'u', 't', 'h', 'o', 'r'))\n",
    "print('series:', character_series, sep='\\n')\n",
    "\n",
    "print('type:', type(character_series))"
   ]
  },
  {
   "cell_type": "code",
   "execution_count": 19,
   "id": "b54f10a5",
   "metadata": {},
   "outputs": [
    {
     "name": "stdout",
     "output_type": "stream",
     "text": [
      "series:\n",
      "0    11\n",
      "1    12\n",
      "2    13\n",
      "3    14\n",
      "4    15\n",
      "5    16\n",
      "dtype: int64\n",
      "type: <class 'pandas.core.series.Series'>\n"
     ]
    }
   ],
   "source": [
    "# creating list from a list\n",
    "integer_series = pd.Series([11, 12, 13, 14, 15, 16])\n",
    "print('series:', integer_series, sep='\\n')\n",
    "print('type:', type(integer_series))\n"
   ]
  },
  {
   "cell_type": "code",
   "execution_count": 27,
   "id": "a16231c7",
   "metadata": {},
   "outputs": [
    {
     "name": "stdout",
     "output_type": "stream",
     "text": [
      "DatetimeIndex(['2020-01-01', '2020-01-02', '2020-01-03', '2020-01-04'], dtype='datetime64[ns]', freq='D')\n",
      "<class 'pandas.core.indexes.datetimes.DatetimeIndex'>\n"
     ]
    }
   ],
   "source": [
    "# Creating a date series\n",
    "# By default - date format is --> mm-dd-yyyy \n",
    "\n",
    "\n",
    "\n",
    "date_series = pd.date_range(start = '01-01-2020', end='01-04-2020')\n",
    "print(date_series, sep= '\\n')\n",
    "print(type(date_series))"
   ]
  },
  {
   "cell_type": "code",
   "execution_count": 40,
   "id": "54a8e050",
   "metadata": {},
   "outputs": [
    {
     "name": "stdout",
     "output_type": "stream",
     "text": [
      "year:  Int64Index([2020, 2020, 2020, 2020], dtype='int64')\n",
      "month:  Int64Index([1, 1, 1, 1], dtype='int64')\n",
      "day:  Int64Index([1, 2, 3, 4], dtype='int64')\n",
      "month_name:  Index(['January', 'January', 'January', 'January'], dtype='object')\n",
      "day_name:  Index(['Wednesday', 'Thursday', 'Friday', 'Saturday'], dtype='object')\n"
     ]
    }
   ],
   "source": [
    "print(\"year: \", date_series.year)\n",
    "print(\"month: \", date_series.month)\n",
    "print(\"day: \", date_series.day)\n",
    "print(\"month_name: \", date_series.month_name())\n",
    "print(\"day_name: \", date_series.day_name())"
   ]
  },
  {
   "cell_type": "code",
   "execution_count": 48,
   "id": "9fba558d",
   "metadata": {},
   "outputs": [
    {
     "name": "stdout",
     "output_type": "stream",
     "text": [
      "The 0th number:  11\n",
      "The 1st 4 element in the series: \n",
      "0    11\n",
      "1    12\n",
      "2    13\n",
      "3    14\n",
      "dtype: int64\n",
      "The 1st and 4th element in the series: \n",
      "0    11\n",
      "4    15\n",
      "dtype: int64\n"
     ]
    }
   ],
   "source": [
    "# Indexing\n",
    "integer_series = pd.Series([11, 12, 13, 14, 15, 16])\n",
    "print(\"The 0th number: \",integer_series[0])\n",
    "print(\"The 1st 4 element in the series: \", integer_series[0:4], sep='\\n')\n",
    "print(\"The 1st and 4th element in the series: \", integer_series[[0, 4]], sep='\\n')"
   ]
  },
  {
   "cell_type": "code",
   "execution_count": 53,
   "id": "dbd0f308",
   "metadata": {},
   "outputs": [
    {
     "name": "stdout",
     "output_type": "stream",
     "text": [
      "new integer:\n",
      "101    11\n",
      "102    12\n",
      "103    13\n",
      "104    14\n",
      "105    15\n",
      "106    16\n",
      "dtype: int64\n",
      "The 0th element:  11\n"
     ]
    }
   ],
   "source": [
    "# How do we rename the indexes, we can restructure the index to a value you want\n",
    "integer_series = pd.Series([11, 12, 13, 14, 15, 16], index = [101, 102, 103, 104, 105, 106])\n",
    "print(\"new integer:\", integer_series, sep=\"\\n\")\n",
    "\n",
    "print(\"The 0th element: \", integer_series[101])"
   ]
  },
  {
   "cell_type": "code",
   "execution_count": 58,
   "id": "f2976444",
   "metadata": {},
   "outputs": [
    {
     "name": "stdout",
     "output_type": "stream",
     "text": [
      "101    11\n",
      "102    12\n",
      "103    13\n",
      "104    14\n",
      "105    15\n",
      "106    16\n",
      "dtype: int64\n"
     ]
    }
   ],
   "source": [
    "# Another way to perform indexing method)\n",
    "\n",
    "integer_series = pd.Series([11, 12, 13, 14, 15, 16], index=range(101, 107))\n",
    "print(integer_series)"
   ]
  },
  {
   "cell_type": "markdown",
   "id": "4548447d",
   "metadata": {},
   "source": [
    "# Data Frames"
   ]
  },
  {
   "cell_type": "code",
   "execution_count": 70,
   "id": "783d32af",
   "metadata": {},
   "outputs": [
    {
     "name": "stdout",
     "output_type": "stream",
     "text": [
      "       Names  Roll number  Math marks\n",
      "0  Student_1            1          88\n",
      "1  Student_2            5          89\n",
      "2  Student_3           10          90\n",
      "3  Student_4            8          78\n",
      "4  Student_5            3          66\n",
      "5  Student_6            7          58\n"
     ]
    }
   ],
   "source": [
    "# Data frames are more of like tables\n",
    "# Creating a dataframe from a dictionary\n",
    "student_data = {\"Names\": [\"Student_1\",\"Student_2\", \"Student_3\", \"Student_4\", \"Student_5\", \"Student_6\"],\"Roll number\": [1, 5, 10, 8, 3, 7],\n",
    "             \"Math marks\": [88, 89, 90, 78, 66, 58]}\n",
    "print(pd.DataFrame(student_data))"
   ]
  },
  {
   "cell_type": "code",
   "execution_count": 71,
   "id": "864d9618",
   "metadata": {},
   "outputs": [
    {
     "name": "stdout",
     "output_type": "stream",
     "text": [
      "       Names  Roll number  Math marks\n",
      "0  Student_1            1          88\n",
      "1  Student_2            5          89\n",
      "2  Student_3           10          90\n",
      "3  Student_4            8          78\n",
      "4  Student_5            3          66\n",
      "5  Student_6            7          58\n"
     ]
    }
   ],
   "source": [
    "# Or we could do it this way\n",
    "student_df = pd.DataFrame({\"Names\": [\"Student_1\",\"Student_2\", \"Student_3\", \"Student_4\", \"Student_5\", \"Student_6\"],\"Roll number\": [1, 5, 10, 8, 3, 7], \n",
    "             \"Math marks\": [88, 89, 90, 78, 66, 58]})\n",
    "print(student_df)"
   ]
  },
  {
   "cell_type": "code",
   "execution_count": 74,
   "id": "637634c1",
   "metadata": {},
   "outputs": [
    {
     "data": {
      "text/html": [
       "<div>\n",
       "<style scoped>\n",
       "    .dataframe tbody tr th:only-of-type {\n",
       "        vertical-align: middle;\n",
       "    }\n",
       "\n",
       "    .dataframe tbody tr th {\n",
       "        vertical-align: top;\n",
       "    }\n",
       "\n",
       "    .dataframe thead th {\n",
       "        text-align: right;\n",
       "    }\n",
       "</style>\n",
       "<table border=\"1\" class=\"dataframe\">\n",
       "  <thead>\n",
       "    <tr style=\"text-align: right;\">\n",
       "      <th></th>\n",
       "      <th>Names</th>\n",
       "      <th>Math marks</th>\n",
       "    </tr>\n",
       "  </thead>\n",
       "  <tbody>\n",
       "    <tr>\n",
       "      <th>0</th>\n",
       "      <td>Student_1</td>\n",
       "      <td>88</td>\n",
       "    </tr>\n",
       "    <tr>\n",
       "      <th>1</th>\n",
       "      <td>Student_2</td>\n",
       "      <td>89</td>\n",
       "    </tr>\n",
       "    <tr>\n",
       "      <th>2</th>\n",
       "      <td>Student_3</td>\n",
       "      <td>90</td>\n",
       "    </tr>\n",
       "    <tr>\n",
       "      <th>3</th>\n",
       "      <td>Student_4</td>\n",
       "      <td>78</td>\n",
       "    </tr>\n",
       "    <tr>\n",
       "      <th>4</th>\n",
       "      <td>Student_5</td>\n",
       "      <td>66</td>\n",
       "    </tr>\n",
       "    <tr>\n",
       "      <th>5</th>\n",
       "      <td>Student_6</td>\n",
       "      <td>58</td>\n",
       "    </tr>\n",
       "  </tbody>\n",
       "</table>\n",
       "</div>"
      ],
      "text/plain": [
       "       Names  Math marks\n",
       "0  Student_1          88\n",
       "1  Student_2          89\n",
       "2  Student_3          90\n",
       "3  Student_4          78\n",
       "4  Student_5          66\n",
       "5  Student_6          58"
      ]
     },
     "execution_count": 74,
     "metadata": {},
     "output_type": "execute_result"
    }
   ],
   "source": [
    "# Reindexing according to row number\n",
    "roll_number = [1, 5, 10, 8, 3, 7]\n",
    "pd.DataFrame({\"Names\": [\"Student_1\",\"Student_2\", \"Student_3\", \"Student_4\", \"Student_5\", \"Student_6\"], \n",
    "             \"Math marks\": [88, 89, 90, 78, 66, 58]})"
   ]
  },
  {
   "cell_type": "code",
   "execution_count": 90,
   "id": "228c0bdf",
   "metadata": {},
   "outputs": [
    {
     "data": {
      "text/html": [
       "<div>\n",
       "<style scoped>\n",
       "    .dataframe tbody tr th:only-of-type {\n",
       "        vertical-align: middle;\n",
       "    }\n",
       "\n",
       "    .dataframe tbody tr th {\n",
       "        vertical-align: top;\n",
       "    }\n",
       "\n",
       "    .dataframe thead th {\n",
       "        text-align: right;\n",
       "    }\n",
       "</style>\n",
       "<table border=\"1\" class=\"dataframe\">\n",
       "  <thead>\n",
       "    <tr style=\"text-align: right;\">\n",
       "      <th></th>\n",
       "      <th>First name</th>\n",
       "      <th>last_name</th>\n",
       "      <th>Gender</th>\n",
       "    </tr>\n",
       "  </thead>\n",
       "  <tbody>\n",
       "    <tr>\n",
       "      <th>0</th>\n",
       "      <td>Sikirulahi</td>\n",
       "      <td>Opeyemi</td>\n",
       "      <td>M</td>\n",
       "    </tr>\n",
       "    <tr>\n",
       "      <th>1</th>\n",
       "      <td>Tijani</td>\n",
       "      <td>Adk</td>\n",
       "      <td>F</td>\n",
       "    </tr>\n",
       "    <tr>\n",
       "      <th>2</th>\n",
       "      <td>Owusu</td>\n",
       "      <td>Samuel</td>\n",
       "      <td>M</td>\n",
       "    </tr>\n",
       "    <tr>\n",
       "      <th>3</th>\n",
       "      <td>Onasanwo</td>\n",
       "      <td>Favour</td>\n",
       "      <td>F</td>\n",
       "    </tr>\n",
       "    <tr>\n",
       "      <th>4</th>\n",
       "      <td>Dipeolu</td>\n",
       "      <td>Ayomide</td>\n",
       "      <td>M</td>\n",
       "    </tr>\n",
       "  </tbody>\n",
       "</table>\n",
       "</div>"
      ],
      "text/plain": [
       "   First name last_name Gender\n",
       "0  Sikirulahi   Opeyemi      M\n",
       "1      Tijani       Adk      F\n",
       "2       Owusu    Samuel      M\n",
       "3    Onasanwo    Favour      F\n",
       "4     Dipeolu   Ayomide      M"
      ]
     },
     "execution_count": 90,
     "metadata": {},
     "output_type": "execute_result"
    }
   ],
   "source": [
    "# Reading a csv file into a dataframe\n",
    "# you can use similar functions for the other structured data file+\n",
    "\n",
    "dummy_df = pd.read_csv(\"C:Desktop/Book1.csv\")\n",
    "# dummy_df = dummy_df.set_index('id')\n",
    "dummy_df"
   ]
  },
  {
   "cell_type": "code",
   "execution_count": 2,
   "id": "3ef1f98d",
   "metadata": {},
   "outputs": [],
   "source": [
    "import pandas as pd"
   ]
  },
  {
   "cell_type": "code",
   "execution_count": 29,
   "id": "0204329f",
   "metadata": {},
   "outputs": [
    {
     "name": "stdout",
     "output_type": "stream",
     "text": [
      "   first_name  last_name       Gender\n",
      "id                                   \n",
      "1        Dodi   McCurlay         Male\n",
      "2        Poch     Casado  Genderqueer\n",
      "3       Knspn  Goviniock      Agender\n",
      "4     Tighany     Dabney     Bigender\n",
      "5       Derry     Fehner  Genderfluid\n",
      "6    Herberto  Behninck      Bigender\n",
      "7      Michal       Gath       Female\n",
      "8      Stella   Shadwick  Genderfluid\n",
      "9    Consuelo       Asty   Polygender\n",
      "10     Amabel  Moortimer         Male\n"
     ]
    }
   ],
   "source": [
    "dummy_df = pd.read_csv(\"C:Desktop/Book1.csv\")\n",
    "dummy_df = dummy_df.set_index('id')\n",
    "print(dummy_df)"
   ]
  },
  {
   "cell_type": "code",
   "execution_count": 26,
   "id": "d3f3f7d9",
   "metadata": {},
   "outputs": [
    {
     "data": {
      "text/html": [
       "<div>\n",
       "<style scoped>\n",
       "    .dataframe tbody tr th:only-of-type {\n",
       "        vertical-align: middle;\n",
       "    }\n",
       "\n",
       "    .dataframe tbody tr th {\n",
       "        vertical-align: top;\n",
       "    }\n",
       "\n",
       "    .dataframe thead th {\n",
       "        text-align: right;\n",
       "    }\n",
       "</style>\n",
       "<table border=\"1\" class=\"dataframe\">\n",
       "  <thead>\n",
       "    <tr style=\"text-align: right;\">\n",
       "      <th></th>\n",
       "      <th>first_name</th>\n",
       "      <th>last_name</th>\n",
       "      <th>Gender</th>\n",
       "    </tr>\n",
       "    <tr>\n",
       "      <th>id</th>\n",
       "      <th></th>\n",
       "      <th></th>\n",
       "      <th></th>\n",
       "    </tr>\n",
       "  </thead>\n",
       "  <tbody>\n",
       "    <tr>\n",
       "      <th>1</th>\n",
       "      <td>Dodi</td>\n",
       "      <td>McCurlay</td>\n",
       "      <td>Male</td>\n",
       "    </tr>\n",
       "    <tr>\n",
       "      <th>2</th>\n",
       "      <td>Poch</td>\n",
       "      <td>Casado</td>\n",
       "      <td>Genderqueer</td>\n",
       "    </tr>\n",
       "    <tr>\n",
       "      <th>3</th>\n",
       "      <td>Knspn</td>\n",
       "      <td>Goviniock</td>\n",
       "      <td>Agender</td>\n",
       "    </tr>\n",
       "    <tr>\n",
       "      <th>4</th>\n",
       "      <td>Tighany</td>\n",
       "      <td>Dabney</td>\n",
       "      <td>Bigender</td>\n",
       "    </tr>\n",
       "    <tr>\n",
       "      <th>5</th>\n",
       "      <td>Derry</td>\n",
       "      <td>Fehner</td>\n",
       "      <td>Genderfluid</td>\n",
       "    </tr>\n",
       "    <tr>\n",
       "      <th>6</th>\n",
       "      <td>Herberto</td>\n",
       "      <td>Behninck</td>\n",
       "      <td>Bigender</td>\n",
       "    </tr>\n",
       "  </tbody>\n",
       "</table>\n",
       "</div>"
      ],
      "text/plain": [
       "   first_name  last_name       Gender\n",
       "id                                   \n",
       "1        Dodi   McCurlay         Male\n",
       "2        Poch     Casado  Genderqueer\n",
       "3       Knspn  Goviniock      Agender\n",
       "4     Tighany     Dabney     Bigender\n",
       "5       Derry     Fehner  Genderfluid\n",
       "6    Herberto  Behninck      Bigender"
      ]
     },
     "execution_count": 26,
     "metadata": {},
     "output_type": "execute_result"
    }
   ],
   "source": [
    "# Just view the first few records\n",
    "dummy_df.head(6)"
   ]
  },
  {
   "cell_type": "code",
   "execution_count": 31,
   "id": "bd0c992d",
   "metadata": {},
   "outputs": [
    {
     "data": {
      "text/html": [
       "<div>\n",
       "<style scoped>\n",
       "    .dataframe tbody tr th:only-of-type {\n",
       "        vertical-align: middle;\n",
       "    }\n",
       "\n",
       "    .dataframe tbody tr th {\n",
       "        vertical-align: top;\n",
       "    }\n",
       "\n",
       "    .dataframe thead th {\n",
       "        text-align: right;\n",
       "    }\n",
       "</style>\n",
       "<table border=\"1\" class=\"dataframe\">\n",
       "  <thead>\n",
       "    <tr style=\"text-align: right;\">\n",
       "      <th></th>\n",
       "      <th>first_name</th>\n",
       "      <th>last_name</th>\n",
       "      <th>Gender</th>\n",
       "    </tr>\n",
       "    <tr>\n",
       "      <th>id</th>\n",
       "      <th></th>\n",
       "      <th></th>\n",
       "      <th></th>\n",
       "    </tr>\n",
       "  </thead>\n",
       "  <tbody>\n",
       "    <tr>\n",
       "      <th>1</th>\n",
       "      <td>Dodi</td>\n",
       "      <td>McCurlay</td>\n",
       "      <td>Male</td>\n",
       "    </tr>\n",
       "    <tr>\n",
       "      <th>2</th>\n",
       "      <td>Poch</td>\n",
       "      <td>Casado</td>\n",
       "      <td>Genderqueer</td>\n",
       "    </tr>\n",
       "  </tbody>\n",
       "</table>\n",
       "</div>"
      ],
      "text/plain": [
       "   first_name last_name       Gender\n",
       "id                                  \n",
       "1        Dodi  McCurlay         Male\n",
       "2        Poch    Casado  Genderqueer"
      ]
     },
     "execution_count": 31,
     "metadata": {},
     "output_type": "execute_result"
    }
   ],
   "source": [
    "dummy_df.head(2)"
   ]
  },
  {
   "cell_type": "code",
   "execution_count": 33,
   "id": "030b13a1",
   "metadata": {},
   "outputs": [
    {
     "data": {
      "text/html": [
       "<div>\n",
       "<style scoped>\n",
       "    .dataframe tbody tr th:only-of-type {\n",
       "        vertical-align: middle;\n",
       "    }\n",
       "\n",
       "    .dataframe tbody tr th {\n",
       "        vertical-align: top;\n",
       "    }\n",
       "\n",
       "    .dataframe thead th {\n",
       "        text-align: right;\n",
       "    }\n",
       "</style>\n",
       "<table border=\"1\" class=\"dataframe\">\n",
       "  <thead>\n",
       "    <tr style=\"text-align: right;\">\n",
       "      <th></th>\n",
       "      <th>first_name</th>\n",
       "      <th>last_name</th>\n",
       "      <th>Gender</th>\n",
       "    </tr>\n",
       "    <tr>\n",
       "      <th>id</th>\n",
       "      <th></th>\n",
       "      <th></th>\n",
       "      <th></th>\n",
       "    </tr>\n",
       "  </thead>\n",
       "  <tbody>\n",
       "    <tr>\n",
       "      <th>5</th>\n",
       "      <td>Derry</td>\n",
       "      <td>Fehner</td>\n",
       "      <td>Genderfluid</td>\n",
       "    </tr>\n",
       "    <tr>\n",
       "      <th>6</th>\n",
       "      <td>Herberto</td>\n",
       "      <td>Behninck</td>\n",
       "      <td>Bigender</td>\n",
       "    </tr>\n",
       "    <tr>\n",
       "      <th>7</th>\n",
       "      <td>Michal</td>\n",
       "      <td>Gath</td>\n",
       "      <td>Female</td>\n",
       "    </tr>\n",
       "    <tr>\n",
       "      <th>8</th>\n",
       "      <td>Stella</td>\n",
       "      <td>Shadwick</td>\n",
       "      <td>Genderfluid</td>\n",
       "    </tr>\n",
       "    <tr>\n",
       "      <th>9</th>\n",
       "      <td>Consuelo</td>\n",
       "      <td>Asty</td>\n",
       "      <td>Polygender</td>\n",
       "    </tr>\n",
       "    <tr>\n",
       "      <th>10</th>\n",
       "      <td>Amabel</td>\n",
       "      <td>Moortimer</td>\n",
       "      <td>Male</td>\n",
       "    </tr>\n",
       "  </tbody>\n",
       "</table>\n",
       "</div>"
      ],
      "text/plain": [
       "   first_name  last_name       Gender\n",
       "id                                   \n",
       "5       Derry     Fehner  Genderfluid\n",
       "6    Herberto  Behninck      Bigender\n",
       "7      Michal       Gath       Female\n",
       "8      Stella   Shadwick  Genderfluid\n",
       "9    Consuelo       Asty   Polygender\n",
       "10     Amabel  Moortimer         Male"
      ]
     },
     "execution_count": 33,
     "metadata": {},
     "output_type": "execute_result"
    }
   ],
   "source": [
    "# Just view the last few records\n",
    "dummy_df.tail(6)"
   ]
  },
  {
   "cell_type": "code",
   "execution_count": 35,
   "id": "391277d0",
   "metadata": {},
   "outputs": [
    {
     "name": "stdout",
     "output_type": "stream",
     "text": [
      "<class 'pandas.core.frame.DataFrame'>\n",
      "Int64Index: 10 entries, 1 to 10\n",
      "Data columns (total 3 columns):\n",
      " #   Column      Non-Null Count  Dtype \n",
      "---  ------      --------------  ----- \n",
      " 0   first_name  10 non-null     object\n",
      " 1   last_name   10 non-null     object\n",
      " 2   Gender      10 non-null     object\n",
      "dtypes: object(3)\n",
      "memory usage: 320.0+ bytes\n"
     ]
    }
   ],
   "source": [
    "# Information about the data\n",
    "dummy_df.info()"
   ]
  },
  {
   "cell_type": "code",
   "execution_count": 37,
   "id": "09349d4a",
   "metadata": {},
   "outputs": [
    {
     "data": {
      "text/plain": [
       "(10, 3)"
      ]
     },
     "execution_count": 37,
     "metadata": {},
     "output_type": "execute_result"
    }
   ],
   "source": [
    "# Shape of the data\n",
    "dummy_df.shape"
   ]
  },
  {
   "cell_type": "code",
   "execution_count": 40,
   "id": "a43f6fa6",
   "metadata": {},
   "outputs": [
    {
     "data": {
      "text/html": [
       "<div>\n",
       "<style scoped>\n",
       "    .dataframe tbody tr th:only-of-type {\n",
       "        vertical-align: middle;\n",
       "    }\n",
       "\n",
       "    .dataframe tbody tr th {\n",
       "        vertical-align: top;\n",
       "    }\n",
       "\n",
       "    .dataframe thead th {\n",
       "        text-align: right;\n",
       "    }\n",
       "</style>\n",
       "<table border=\"1\" class=\"dataframe\">\n",
       "  <thead>\n",
       "    <tr style=\"text-align: right;\">\n",
       "      <th></th>\n",
       "      <th>first_name</th>\n",
       "      <th>last_name</th>\n",
       "      <th>Gender</th>\n",
       "    </tr>\n",
       "  </thead>\n",
       "  <tbody>\n",
       "    <tr>\n",
       "      <th>count</th>\n",
       "      <td>10</td>\n",
       "      <td>10</td>\n",
       "      <td>10</td>\n",
       "    </tr>\n",
       "    <tr>\n",
       "      <th>unique</th>\n",
       "      <td>10</td>\n",
       "      <td>10</td>\n",
       "      <td>7</td>\n",
       "    </tr>\n",
       "    <tr>\n",
       "      <th>top</th>\n",
       "      <td>Dodi</td>\n",
       "      <td>McCurlay</td>\n",
       "      <td>Male</td>\n",
       "    </tr>\n",
       "    <tr>\n",
       "      <th>freq</th>\n",
       "      <td>1</td>\n",
       "      <td>1</td>\n",
       "      <td>2</td>\n",
       "    </tr>\n",
       "  </tbody>\n",
       "</table>\n",
       "</div>"
      ],
      "text/plain": [
       "       first_name last_name Gender\n",
       "count          10        10     10\n",
       "unique         10        10      7\n",
       "top          Dodi  McCurlay   Male\n",
       "freq            1         1      2"
      ]
     },
     "execution_count": 40,
     "metadata": {},
     "output_type": "execute_result"
    }
   ],
   "source": [
    "dummy_df.describe()"
   ]
  },
  {
   "cell_type": "code",
   "execution_count": 45,
   "id": "dbb15cfe",
   "metadata": {},
   "outputs": [
    {
     "data": {
      "text/plain": [
       "Index(['first_name', 'last_name', 'Gender'], dtype='object')"
      ]
     },
     "execution_count": 45,
     "metadata": {},
     "output_type": "execute_result"
    }
   ],
   "source": [
    "# Names of columns present\n",
    "dummy_df.columns"
   ]
  },
  {
   "cell_type": "code",
   "execution_count": 46,
   "id": "f3909e1f",
   "metadata": {},
   "outputs": [
    {
     "data": {
      "text/plain": [
       "pandas.core.indexes.base.Index"
      ]
     },
     "execution_count": 46,
     "metadata": {},
     "output_type": "execute_result"
    }
   ],
   "source": [
    "type(dummy_df.columns)"
   ]
  },
  {
   "cell_type": "code",
   "execution_count": 47,
   "id": "f4c80840",
   "metadata": {},
   "outputs": [
    {
     "data": {
      "text/plain": [
       "['first_name', 'last_name', 'Gender']"
      ]
     },
     "execution_count": 47,
     "metadata": {},
     "output_type": "execute_result"
    }
   ],
   "source": [
    "list(dummy_df.columns)"
   ]
  },
  {
   "cell_type": "code",
   "execution_count": 55,
   "id": "48d9f861",
   "metadata": {},
   "outputs": [
    {
     "name": "stdout",
     "output_type": "stream",
     "text": [
      "All rows: \n",
      "[['Dodi' 'McCurlay' 'Male']\n",
      " ['Poch' 'Casado' 'Genderqueer']\n",
      " ['Knspn' 'Goviniock' 'Agender']\n",
      " ['Tighany' 'Dabney' 'Bigender']\n",
      " ['Derry' 'Fehner' 'Genderfluid']\n",
      " ['Herberto' 'Behninck ' 'Bigender']\n",
      " ['Michal' 'Gath' 'Female']\n",
      " ['Stella' 'Shadwick' 'Genderfluid']\n",
      " ['Consuelo' 'Asty' 'Polygender']\n",
      " ['Amabel' 'Moortimer' 'Male']]\n",
      "\n",
      "row in the zeroth index:  ['Dodi' 'McCurlay' 'Male']\n",
      "zeroth value:  Dodi\n"
     ]
    }
   ],
   "source": [
    "# To print the array of the rows\n",
    "print(\"All rows: \", dummy_df.values, sep='\\n', end='\\n\\n')\n",
    "\n",
    "# You can also index the values\n",
    "print(\"row in the zeroth index: \", dummy_df.values[0])\n",
    "\n",
    "# To give the 0th value\n",
    "print(\"zeroth value: \", dummy_df.values[0, 0])"
   ]
  },
  {
   "cell_type": "code",
   "execution_count": 57,
   "id": "d754b8a4",
   "metadata": {},
   "outputs": [
    {
     "data": {
      "text/plain": [
       "first_name    10\n",
       "last_name     10\n",
       "Gender        10\n",
       "dtype: int64"
      ]
     },
     "execution_count": 57,
     "metadata": {},
     "output_type": "execute_result"
    }
   ],
   "source": [
    "# To count the number or non-null values in each row or column\n",
    "dummy_df.count()"
   ]
  },
  {
   "cell_type": "code",
   "execution_count": 61,
   "id": "7acd9c13",
   "metadata": {},
   "outputs": [
    {
     "data": {
      "text/plain": [
       "Male           2\n",
       "Bigender       2\n",
       "Genderfluid    2\n",
       "Genderqueer    1\n",
       "Agender        1\n",
       "Female         1\n",
       "Polygender     1\n",
       "Name: Gender, dtype: int64"
      ]
     },
     "execution_count": 61,
     "metadata": {},
     "output_type": "execute_result"
    }
   ],
   "source": [
    "# Gives you the unique count of all the unique value present in the column\n",
    "dummy_df['Gender'].value_counts()"
   ]
  },
  {
   "cell_type": "code",
   "execution_count": 64,
   "id": "26204ed2",
   "metadata": {},
   "outputs": [
    {
     "data": {
      "text/html": [
       "<div>\n",
       "<style scoped>\n",
       "    .dataframe tbody tr th:only-of-type {\n",
       "        vertical-align: middle;\n",
       "    }\n",
       "\n",
       "    .dataframe tbody tr th {\n",
       "        vertical-align: top;\n",
       "    }\n",
       "\n",
       "    .dataframe thead th {\n",
       "        text-align: right;\n",
       "    }\n",
       "</style>\n",
       "<table border=\"1\" class=\"dataframe\">\n",
       "  <thead>\n",
       "    <tr style=\"text-align: right;\">\n",
       "      <th></th>\n",
       "      <th>first_name</th>\n",
       "      <th>last_name</th>\n",
       "      <th>Gender</th>\n",
       "    </tr>\n",
       "    <tr>\n",
       "      <th>id</th>\n",
       "      <th></th>\n",
       "      <th></th>\n",
       "      <th></th>\n",
       "    </tr>\n",
       "  </thead>\n",
       "  <tbody>\n",
       "    <tr>\n",
       "      <th>1</th>\n",
       "      <td>Dodi</td>\n",
       "      <td>McCurlay</td>\n",
       "      <td>Male</td>\n",
       "    </tr>\n",
       "    <tr>\n",
       "      <th>2</th>\n",
       "      <td>Poch</td>\n",
       "      <td>Casado</td>\n",
       "      <td>Genderqueer</td>\n",
       "    </tr>\n",
       "    <tr>\n",
       "      <th>3</th>\n",
       "      <td>Knspn</td>\n",
       "      <td>Goviniock</td>\n",
       "      <td>Agender</td>\n",
       "    </tr>\n",
       "    <tr>\n",
       "      <th>4</th>\n",
       "      <td>Tighany</td>\n",
       "      <td>Dabney</td>\n",
       "      <td>Bigender</td>\n",
       "    </tr>\n",
       "    <tr>\n",
       "      <th>5</th>\n",
       "      <td>Derry</td>\n",
       "      <td>Fehner</td>\n",
       "      <td>Genderfluid</td>\n",
       "    </tr>\n",
       "    <tr>\n",
       "      <th>6</th>\n",
       "      <td>Herberto</td>\n",
       "      <td>Behninck</td>\n",
       "      <td>Bigender</td>\n",
       "    </tr>\n",
       "    <tr>\n",
       "      <th>7</th>\n",
       "      <td>Michal</td>\n",
       "      <td>Gath</td>\n",
       "      <td>Female</td>\n",
       "    </tr>\n",
       "    <tr>\n",
       "      <th>8</th>\n",
       "      <td>Stella</td>\n",
       "      <td>Shadwick</td>\n",
       "      <td>Genderfluid</td>\n",
       "    </tr>\n",
       "    <tr>\n",
       "      <th>9</th>\n",
       "      <td>Consuelo</td>\n",
       "      <td>Asty</td>\n",
       "      <td>Polygender</td>\n",
       "    </tr>\n",
       "    <tr>\n",
       "      <th>10</th>\n",
       "      <td>Amabel</td>\n",
       "      <td>Moortimer</td>\n",
       "      <td>Male</td>\n",
       "    </tr>\n",
       "  </tbody>\n",
       "</table>\n",
       "</div>"
      ],
      "text/plain": [
       "   first_name  last_name       Gender\n",
       "id                                   \n",
       "1        Dodi   McCurlay         Male\n",
       "2        Poch     Casado  Genderqueer\n",
       "3       Knspn  Goviniock      Agender\n",
       "4     Tighany     Dabney     Bigender\n",
       "5       Derry     Fehner  Genderfluid\n",
       "6    Herberto  Behninck      Bigender\n",
       "7      Michal       Gath       Female\n",
       "8      Stella   Shadwick  Genderfluid\n",
       "9    Consuelo       Asty   Polygender\n",
       "10     Amabel  Moortimer         Male"
      ]
     },
     "execution_count": 64,
     "metadata": {},
     "output_type": "execute_result"
    }
   ],
   "source": [
    "dummy_df"
   ]
  },
  {
   "cell_type": "code",
   "execution_count": 63,
   "id": "89eaea86",
   "metadata": {},
   "outputs": [
    {
     "data": {
      "text/html": [
       "<div>\n",
       "<style scoped>\n",
       "    .dataframe tbody tr th:only-of-type {\n",
       "        vertical-align: middle;\n",
       "    }\n",
       "\n",
       "    .dataframe tbody tr th {\n",
       "        vertical-align: top;\n",
       "    }\n",
       "\n",
       "    .dataframe thead th {\n",
       "        text-align: right;\n",
       "    }\n",
       "</style>\n",
       "<table border=\"1\" class=\"dataframe\">\n",
       "  <thead>\n",
       "    <tr style=\"text-align: right;\">\n",
       "      <th></th>\n",
       "      <th>first_name</th>\n",
       "      <th>last_name</th>\n",
       "      <th>Gender</th>\n",
       "    </tr>\n",
       "    <tr>\n",
       "      <th>id</th>\n",
       "      <th></th>\n",
       "      <th></th>\n",
       "      <th></th>\n",
       "    </tr>\n",
       "  </thead>\n",
       "  <tbody>\n",
       "    <tr>\n",
       "      <th>1</th>\n",
       "      <td>Dodi</td>\n",
       "      <td>McCurlay</td>\n",
       "      <td>Male</td>\n",
       "    </tr>\n",
       "  </tbody>\n",
       "</table>\n",
       "</div>"
      ],
      "text/plain": [
       "   first_name last_name Gender\n",
       "id                            \n",
       "1        Dodi  McCurlay   Male"
      ]
     },
     "execution_count": 63,
     "metadata": {},
     "output_type": "execute_result"
    }
   ],
   "source": [
    "# For accessing the rows in a table\n",
    "dummy_df[0:1]"
   ]
  },
  {
   "cell_type": "code",
   "execution_count": 72,
   "id": "8bafa4fa",
   "metadata": {},
   "outputs": [
    {
     "data": {
      "text/html": [
       "<div>\n",
       "<style scoped>\n",
       "    .dataframe tbody tr th:only-of-type {\n",
       "        vertical-align: middle;\n",
       "    }\n",
       "\n",
       "    .dataframe tbody tr th {\n",
       "        vertical-align: top;\n",
       "    }\n",
       "\n",
       "    .dataframe thead th {\n",
       "        text-align: right;\n",
       "    }\n",
       "</style>\n",
       "<table border=\"1\" class=\"dataframe\">\n",
       "  <thead>\n",
       "    <tr style=\"text-align: right;\">\n",
       "      <th></th>\n",
       "      <th>first_name</th>\n",
       "      <th>last_name</th>\n",
       "      <th>Gender</th>\n",
       "    </tr>\n",
       "    <tr>\n",
       "      <th>id</th>\n",
       "      <th></th>\n",
       "      <th></th>\n",
       "      <th></th>\n",
       "    </tr>\n",
       "  </thead>\n",
       "  <tbody>\n",
       "    <tr>\n",
       "      <th>2</th>\n",
       "      <td>Poch</td>\n",
       "      <td>Casado</td>\n",
       "      <td>Genderqueer</td>\n",
       "    </tr>\n",
       "    <tr>\n",
       "      <th>3</th>\n",
       "      <td>Knspn</td>\n",
       "      <td>Goviniock</td>\n",
       "      <td>Agender</td>\n",
       "    </tr>\n",
       "  </tbody>\n",
       "</table>\n",
       "</div>"
      ],
      "text/plain": [
       "   first_name  last_name       Gender\n",
       "id                                   \n",
       "2        Poch     Casado  Genderqueer\n",
       "3       Knspn  Goviniock      Agender"
      ]
     },
     "execution_count": 72,
     "metadata": {},
     "output_type": "execute_result"
    }
   ],
   "source": [
    "# The number in the column denotes the index number\n",
    "dummy_df[1:3]"
   ]
  },
  {
   "cell_type": "code",
   "execution_count": 73,
   "id": "1b0d9159",
   "metadata": {},
   "outputs": [
    {
     "data": {
      "text/html": [
       "<div>\n",
       "<style scoped>\n",
       "    .dataframe tbody tr th:only-of-type {\n",
       "        vertical-align: middle;\n",
       "    }\n",
       "\n",
       "    .dataframe tbody tr th {\n",
       "        vertical-align: top;\n",
       "    }\n",
       "\n",
       "    .dataframe thead th {\n",
       "        text-align: right;\n",
       "    }\n",
       "</style>\n",
       "<table border=\"1\" class=\"dataframe\">\n",
       "  <thead>\n",
       "    <tr style=\"text-align: right;\">\n",
       "      <th></th>\n",
       "      <th>first_name</th>\n",
       "      <th>last_name</th>\n",
       "      <th>Gender</th>\n",
       "    </tr>\n",
       "    <tr>\n",
       "      <th>id</th>\n",
       "      <th></th>\n",
       "      <th></th>\n",
       "      <th></th>\n",
       "    </tr>\n",
       "  </thead>\n",
       "  <tbody>\n",
       "    <tr>\n",
       "      <th>1</th>\n",
       "      <td>Dodi</td>\n",
       "      <td>McCurlay</td>\n",
       "      <td>Male</td>\n",
       "    </tr>\n",
       "    <tr>\n",
       "      <th>2</th>\n",
       "      <td>Poch</td>\n",
       "      <td>Casado</td>\n",
       "      <td>Genderqueer</td>\n",
       "    </tr>\n",
       "    <tr>\n",
       "      <th>3</th>\n",
       "      <td>Knspn</td>\n",
       "      <td>Goviniock</td>\n",
       "      <td>Agender</td>\n",
       "    </tr>\n",
       "    <tr>\n",
       "      <th>4</th>\n",
       "      <td>Tighany</td>\n",
       "      <td>Dabney</td>\n",
       "      <td>Bigender</td>\n",
       "    </tr>\n",
       "    <tr>\n",
       "      <th>5</th>\n",
       "      <td>Derry</td>\n",
       "      <td>Fehner</td>\n",
       "      <td>Genderfluid</td>\n",
       "    </tr>\n",
       "  </tbody>\n",
       "</table>\n",
       "</div>"
      ],
      "text/plain": [
       "   first_name  last_name       Gender\n",
       "id                                   \n",
       "1        Dodi   McCurlay         Male\n",
       "2        Poch     Casado  Genderqueer\n",
       "3       Knspn  Goviniock      Agender\n",
       "4     Tighany     Dabney     Bigender\n",
       "5       Derry     Fehner  Genderfluid"
      ]
     },
     "execution_count": 73,
     "metadata": {},
     "output_type": "execute_result"
    }
   ],
   "source": [
    "dummy_df[:5]"
   ]
  },
  {
   "cell_type": "code",
   "execution_count": 93,
   "id": "f63daf1c",
   "metadata": {},
   "outputs": [
    {
     "data": {
      "text/html": [
       "<div>\n",
       "<style scoped>\n",
       "    .dataframe tbody tr th:only-of-type {\n",
       "        vertical-align: middle;\n",
       "    }\n",
       "\n",
       "    .dataframe tbody tr th {\n",
       "        vertical-align: top;\n",
       "    }\n",
       "\n",
       "    .dataframe thead th {\n",
       "        text-align: right;\n",
       "    }\n",
       "</style>\n",
       "<table border=\"1\" class=\"dataframe\">\n",
       "  <thead>\n",
       "    <tr style=\"text-align: right;\">\n",
       "      <th></th>\n",
       "      <th>first_name</th>\n",
       "      <th>last_name</th>\n",
       "      <th>Gender</th>\n",
       "    </tr>\n",
       "    <tr>\n",
       "      <th>id</th>\n",
       "      <th></th>\n",
       "      <th></th>\n",
       "      <th></th>\n",
       "    </tr>\n",
       "  </thead>\n",
       "  <tbody>\n",
       "    <tr>\n",
       "      <th>2</th>\n",
       "      <td>Poch</td>\n",
       "      <td>Casado</td>\n",
       "      <td>Genderqueer</td>\n",
       "    </tr>\n",
       "    <tr>\n",
       "      <th>4</th>\n",
       "      <td>Tighany</td>\n",
       "      <td>Dabney</td>\n",
       "      <td>Bigender</td>\n",
       "    </tr>\n",
       "    <tr>\n",
       "      <th>6</th>\n",
       "      <td>Herberto</td>\n",
       "      <td>Behninck</td>\n",
       "      <td>Bigender</td>\n",
       "    </tr>\n",
       "    <tr>\n",
       "      <th>8</th>\n",
       "      <td>Stella</td>\n",
       "      <td>Shadwick</td>\n",
       "      <td>Genderfluid</td>\n",
       "    </tr>\n",
       "  </tbody>\n",
       "</table>\n",
       "</div>"
      ],
      "text/plain": [
       "   first_name  last_name       Gender\n",
       "id                                   \n",
       "2        Poch     Casado  Genderqueer\n",
       "4     Tighany     Dabney     Bigender\n",
       "6    Herberto  Behninck      Bigender\n",
       "8      Stella   Shadwick  Genderfluid"
      ]
     },
     "execution_count": 93,
     "metadata": {},
     "output_type": "execute_result"
    }
   ],
   "source": [
    "# It works just like the indexing you know\n",
    "# It prints fro, index 1 to 8 with a step of 2\n",
    "dummy_df[1:8:2]\n"
   ]
  },
  {
   "cell_type": "code",
   "execution_count": 79,
   "id": "6218003b",
   "metadata": {},
   "outputs": [
    {
     "name": "stdout",
     "output_type": "stream",
     "text": [
      "Series output: \n",
      "id\n",
      "1            Male\n",
      "2     Genderqueer\n",
      "3         Agender\n",
      "4        Bigender\n",
      "5     Genderfluid\n",
      "6        Bigender\n",
      "7          Female\n",
      "8     Genderfluid\n",
      "9      Polygender\n",
      "10           Male\n",
      "Name: Gender, dtype: object\n",
      "<class 'pandas.core.series.Series'>\n"
     ]
    }
   ],
   "source": [
    "# Selecting columns\n",
    "# First method (Prefered)\n",
    "print(\"Series output: \",dummy_df['Gender'],sep='\\n')\n",
    "print(type(dummy_df['Gender']))"
   ]
  },
  {
   "cell_type": "code",
   "execution_count": 81,
   "id": "757130a4",
   "metadata": {},
   "outputs": [
    {
     "name": "stdout",
     "output_type": "stream",
     "text": [
      "Series Output: \n",
      "id\n",
      "1            Male\n",
      "2     Genderqueer\n",
      "3         Agender\n",
      "4        Bigender\n",
      "5     Genderfluid\n",
      "6        Bigender\n",
      "7          Female\n",
      "8     Genderfluid\n",
      "9      Polygender\n",
      "10           Male\n",
      "Name: Gender, dtype: object\n",
      "Type:  <class 'pandas.core.series.Series'>\n"
     ]
    }
   ],
   "source": [
    "# Second method\n",
    "print(\"Series Output: \",dummy_df.Gender, sep='\\n')\n",
    "print(\"Type: \", type(dummy_df.Gender))"
   ]
  },
  {
   "cell_type": "code",
   "execution_count": 90,
   "id": "643d22f2",
   "metadata": {},
   "outputs": [
    {
     "name": "stdout",
     "output_type": "stream",
     "text": [
      "Data Frame Output: \n",
      "         Gender first_name\n",
      "id                        \n",
      "1          Male       Dodi\n",
      "2   Genderqueer       Poch\n",
      "3       Agender      Knspn\n",
      "4      Bigender    Tighany\n",
      "5   Genderfluid      Derry\n",
      "6      Bigender   Herberto\n",
      "7        Female     Michal\n",
      "8   Genderfluid     Stella\n",
      "9    Polygender   Consuelo\n",
      "10         Male     Amabel\n",
      "\n",
      "Type:  <class 'pandas.core.frame.DataFrame'>\n"
     ]
    }
   ],
   "source": [
    "print(\"Data Frame Output: \",dummy_df[['Gender','first_name']], sep='\\n')\n",
    "print()\n",
    "print(\"Type: \", type(dummy_df))"
   ]
  },
  {
   "cell_type": "code",
   "execution_count": null,
   "id": "a45a9e8e",
   "metadata": {},
   "outputs": [],
   "source": []
  },
  {
   "cell_type": "code",
   "execution_count": null,
   "id": "ca10eadd",
   "metadata": {},
   "outputs": [],
   "source": [
    "\n",
    "9"
   ]
  }
 ],
 "metadata": {
  "kernelspec": {
   "display_name": "Python 3 (ipykernel)",
   "language": "python",
   "name": "python3"
  },
  "language_info": {
   "codemirror_mode": {
    "name": "ipython",
    "version": 3
   },
   "file_extension": ".py",
   "mimetype": "text/x-python",
   "name": "python",
   "nbconvert_exporter": "python",
   "pygments_lexer": "ipython3",
   "version": "3.9.7"
  }
 },
 "nbformat": 4,
 "nbformat_minor": 5
}
