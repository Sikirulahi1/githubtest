{
 "cells": [
  {
   "cell_type": "code",
   "execution_count": 3,
   "id": "5f860e23",
   "metadata": {},
   "outputs": [
    {
     "name": "stdout",
     "output_type": "stream",
     "text": [
      "Value of n after '/=' 201.00\n"
     ]
    }
   ],
   "source": [
    "n = 201\n",
    "n/9\n",
    "print(\"Value of n after '/=' {:.2f}\".format(n))"
   ]
  },
  {
   "cell_type": "markdown",
   "id": "2522be34",
   "metadata": {},
   "source": [
    "# Identity Operators"
   ]
  },
  {
   "cell_type": "code",
   "execution_count": 4,
   "id": "615855e0",
   "metadata": {},
   "outputs": [
    {
     "name": "stdout",
     "output_type": "stream",
     "text": [
      "False\n"
     ]
    }
   ],
   "source": [
    "num_1 = 12\n",
    "num_2 = 23\n",
    "print(num_1 is num_2)"
   ]
  },
  {
   "cell_type": "code",
   "execution_count": 5,
   "id": "f42a60e6",
   "metadata": {},
   "outputs": [
    {
     "name": "stdout",
     "output_type": "stream",
     "text": [
      "True\n"
     ]
    }
   ],
   "source": [
    "num_1 = 12\n",
    "num_2 = 12\n",
    "print(num_1 is num_2)"
   ]
  },
  {
   "cell_type": "code",
   "execution_count": 6,
   "id": "b824aabd",
   "metadata": {},
   "outputs": [
    {
     "name": "stdout",
     "output_type": "stream",
     "text": [
      "True\n"
     ]
    }
   ],
   "source": [
    "num_1 = 12\n",
    "num_2 = 23\n",
    "print(num_1 is not num_2)"
   ]
  },
  {
   "cell_type": "markdown",
   "id": "70fff038",
   "metadata": {},
   "source": [
    "# Membership Operators"
   ]
  },
  {
   "cell_type": "code",
   "execution_count": 7,
   "id": "ff78258c",
   "metadata": {},
   "outputs": [
    {
     "name": "stdout",
     "output_type": "stream",
     "text": [
      "True\n"
     ]
    }
   ],
   "source": [
    "# Example for in\n",
    "print(12 in [1, 2, 3, 12])"
   ]
  },
  {
   "cell_type": "code",
   "execution_count": 8,
   "id": "031c78db",
   "metadata": {},
   "outputs": [
    {
     "name": "stdout",
     "output_type": "stream",
     "text": [
      "False\n"
     ]
    }
   ],
   "source": [
    "print(12 in [1, 2, 3, 5])"
   ]
  },
  {
   "cell_type": "code",
   "execution_count": 10,
   "id": "8a02abad",
   "metadata": {},
   "outputs": [
    {
     "name": "stdout",
     "output_type": "stream",
     "text": [
      "False\n"
     ]
    }
   ],
   "source": [
    "print(12 not in [1, 2, 3, 12])"
   ]
  },
  {
   "cell_type": "code",
   "execution_count": 11,
   "id": "b4ae045d",
   "metadata": {},
   "outputs": [
    {
     "name": "stdout",
     "output_type": "stream",
     "text": [
      "True\n"
     ]
    }
   ],
   "source": [
    "print(not(1==2))"
   ]
  },
  {
   "cell_type": "code",
   "execution_count": 12,
   "id": "5375f77b",
   "metadata": {},
   "outputs": [
    {
     "name": "stdout",
     "output_type": "stream",
     "text": [
      "False\n"
     ]
    }
   ],
   "source": [
    "print(not(1==1))"
   ]
  },
  {
   "cell_type": "markdown",
   "id": "24bc1141",
   "metadata": {},
   "source": [
    "- This is the first line\n",
    "- Continuatuion\n",
    "- a\n",
    "- d\n",
    "> This is the second line\n",
    ">> This is the third line"
   ]
  },
  {
   "cell_type": "code",
   "execution_count": 19,
   "id": "2f6bf04b",
   "metadata": {},
   "outputs": [
    {
     "name": "stdout",
     "output_type": "stream",
     "text": [
      "My name is sikirulahi\tMy name is sikirulahi\tMy name is sikirulahi\n"
     ]
    }
   ],
   "source": [
    "# sep - separator\n",
    "print(\"My name is {}\".format('sikirulahi'), end ='\\t')\n",
    "print(\"My name is {}\".format('sikirulahi'), end ='\\t')\n",
    "print(\"My name is {}\".format('sikirulahi'), sep ='\\t')"
   ]
  },
  {
   "cell_type": "code",
   "execution_count": 22,
   "id": "ca858f18",
   "metadata": {},
   "outputs": [
    {
     "name": "stdout",
     "output_type": "stream",
     "text": [
      "Its so hot, it feels like im on the sun\n"
     ]
    }
   ],
   "source": [
    "temperature = 51\n",
    "\n",
    "if temperature < 0:\n",
    "    print(\"Its freezing\")\n",
    "elif 0 < temperature < 20:\n",
    "    print(\"Its cold\")\n",
    "elif 20 < temperature < 30:\n",
    "        print(\"Its pleasant outside, ill go for a walk\")\n",
    "elif 30 < temperature < 50:\n",
    "    print(\"Its hot, but i have an AC\")\n",
    "else:\n",
    "    print(\"Its so hot, it feels like im on the sun\")"
   ]
  },
  {
   "cell_type": "code",
   "execution_count": 25,
   "id": "d87e85ae",
   "metadata": {},
   "outputs": [
    {
     "name": "stdout",
     "output_type": "stream",
     "text": [
      "1 3 5 7 9 "
     ]
    }
   ],
   "source": [
    "for i in range(1, 10, 2):\n",
    "    print(i, end = ' ')"
   ]
  },
  {
   "cell_type": "code",
   "execution_count": 2,
   "id": "b41896cf",
   "metadata": {},
   "outputs": [
    {
     "name": "stdout",
     "output_type": "stream",
     "text": [
      "1 2 3 4 5 6 7 8 9 "
     ]
    }
   ],
   "source": [
    "i = 1\n",
    "while i < 10:\n",
    "    print(i, end = ' ')\n",
    "    i += 1"
   ]
  },
  {
   "cell_type": "code",
   "execution_count": 2,
   "id": "2da350eb",
   "metadata": {},
   "outputs": [
    {
     "name": "stdout",
     "output_type": "stream",
     "text": [
      "1 2 3 4 5 6 7 8 9 10 "
     ]
    }
   ],
   "source": [
    "i = 1\n",
    "while True:\n",
    "    print(i, end= ' ')\n",
    "    i += 1\n",
    "    if (i >= 10):\n",
    "        break"
   ]
  },
  {
   "cell_type": "code",
   "execution_count": 3,
   "id": "b1d16915",
   "metadata": {},
   "outputs": [
    {
     "name": "stdout",
     "output_type": "stream",
     "text": [
      "*\n",
      "**\n",
      "***\n",
      "****\n",
      "*****\n"
     ]
    }
   ],
   "source": [
    "for i in range(1, 6):\n",
    "    print(\"*\"*i)"
   ]
  },
  {
   "cell_type": "code",
   "execution_count": 11,
   "id": "b4ff3bd3",
   "metadata": {},
   "outputs": [
    {
     "name": "stdout",
     "output_type": "stream",
     "text": [
      "*\n",
      "**\n",
      "***\n",
      "****\n",
      "*****\n"
     ]
    }
   ],
   "source": [
    "for i in range(1, 6):\n",
    "    for j in range(1, i+1):\n",
    "        print('*', end = '')\n",
    "    print()"
   ]
  },
  {
   "cell_type": "code",
   "execution_count": 25,
   "id": "08e8fdfd",
   "metadata": {},
   "outputs": [
    {
     "name": "stdout",
     "output_type": "stream",
     "text": [
      "\n",
      "\n",
      "\n",
      "\n",
      "\n",
      "\n"
     ]
    }
   ],
   "source": [
    "for i in range(6):\n",
    "    for j in range(i+1, 1):\n",
    "        print(\"*\", end = '')\n",
    "    print()"
   ]
  },
  {
   "cell_type": "markdown",
   "id": "be4d42bb",
   "metadata": {},
   "source": [
    "# User Defined Functions"
   ]
  },
  {
   "cell_type": "code",
   "execution_count": 26,
   "id": "efe4d7bf",
   "metadata": {},
   "outputs": [
    {
     "name": "stdout",
     "output_type": "stream",
     "text": [
      "Maximum :  4\n"
     ]
    }
   ],
   "source": [
    "num_1, num_2, num_3 = 2, 3, 4\n",
    "maximum = num_1\n",
    "\n",
    "if num_2 < maximum:\n",
    "    maximum = num_2\n",
    "if num_3 > maximum:\n",
    "    maximum = num_3\n",
    "\n",
    "print(\"Maximum : \", maximum)"
   ]
  },
  {
   "cell_type": "code",
   "execution_count": 28,
   "id": "0cb014e8",
   "metadata": {},
   "outputs": [],
   "source": [
    "def display():\n",
    "    print(\"This is a display function\")"
   ]
  },
  {
   "cell_type": "code",
   "execution_count": 30,
   "id": "3e16baeb",
   "metadata": {},
   "outputs": [
    {
     "name": "stdout",
     "output_type": "stream",
     "text": [
      "This is a display function\n",
      "This is a display function\n"
     ]
    }
   ],
   "source": [
    "display()\n",
    "display()"
   ]
  },
  {
   "cell_type": "code",
   "execution_count": 43,
   "id": "9cc4cc5e",
   "metadata": {},
   "outputs": [],
   "source": [
    "def sum_check(num_1, num_2):\n",
    "    if isinstance (num_1, (int, float)) and (num_2, (int, float)):\n",
    "        print(num_1 + num_2)\n",
    "    else:\n",
    "        print(\"Error\")"
   ]
  },
  {
   "cell_type": "code",
   "execution_count": 44,
   "id": "67e86a87",
   "metadata": {},
   "outputs": [
    {
     "name": "stdout",
     "output_type": "stream",
     "text": [
      "4\n"
     ]
    }
   ],
   "source": [
    "sum_check(num_1 = 1, num_2 = 3)"
   ]
  },
  {
   "cell_type": "code",
   "execution_count": 47,
   "id": "4f3cc0c7",
   "metadata": {},
   "outputs": [
    {
     "name": "stdout",
     "output_type": "stream",
     "text": [
      "Printing inside the function Num_1 =  2\n",
      "Printing inside the function Num_1 =  3\n",
      "Printing inside the function Num_1 =  2\n"
     ]
    }
   ],
   "source": [
    "num_1 = 2\n",
    "def display():\n",
    "    num_1 = 3\n",
    "    print(\"Printing inside the function Num_1 = \", num_1)\n",
    "    \n",
    "print(\"Printing inside the function Num_1 = \", num_1)\n",
    "display()\n",
    "print(\"Printing inside the function Num_1 = \", num_1)"
   ]
  },
  {
   "cell_type": "code",
   "execution_count": 51,
   "id": "90fdd26f",
   "metadata": {},
   "outputs": [
    {
     "name": "stdout",
     "output_type": "stream",
     "text": [
      "Printing outside the function Num_1 =  2\n",
      "Local variable num_1 value =  3\n",
      "Printing outside the function Num_1 (2nd time) =  3\n"
     ]
    }
   ],
   "source": [
    "num_1 = 2\n",
    "def display():\n",
    "    global num_1\n",
    "    num_1 = 3\n",
    "    print(\"Local variable num_1 value = \", num_1)\n",
    "\n",
    "print(\"Printing outside the function Num_1 = \", num_1)\n",
    "display()\n",
    "print(\"Printing outside the function Num_1 (2nd time) = \", num_1)"
   ]
  },
  {
   "cell_type": "code",
   "execution_count": 57,
   "id": "fd408a9f",
   "metadata": {},
   "outputs": [],
   "source": [
    "def maximum(num_1, num_2, num_3):\n",
    "    maximum = num_1\n",
    "    \n",
    "    if num_2 > maximum:\n",
    "        maximum = num_2\n",
    "    if num_3 > maximum:\n",
    "        maximum = num_3\n",
    "    return maximum\n"
   ]
  },
  {
   "cell_type": "code",
   "execution_count": 58,
   "id": "f6ef735b",
   "metadata": {},
   "outputs": [
    {
     "data": {
      "text/plain": [
       "5"
      ]
     },
     "execution_count": 58,
     "metadata": {},
     "output_type": "execute_result"
    }
   ],
   "source": [
    "maximum(2,4,5)"
   ]
  },
  {
   "cell_type": "code",
   "execution_count": 81,
   "id": "465d2581",
   "metadata": {},
   "outputs": [
    {
     "name": "stdout",
     "output_type": "stream",
     "text": [
      "Enter first number: 35\n",
      "Enter second number: 413\n",
      "Enter third number: 21\n"
     ]
    }
   ],
   "source": [
    "num_1 = int(input(\"Enter first number: \"))\n",
    "num_2 = int(input(\"Enter second number: \"))\n",
    "num_3 = int(input(\"Enter third number: \"))\n",
    "\n",
    "def addition():\n",
    "    sum = (num_1 + num_2 + num_3)\n",
    "#     return sum\n",
    "    if sum > 100:\n",
    "        print(\"Beyond century : \", sum)\n",
    "    else:\n",
    "        print(\"we are yet not there : \", sum)\n",
    "    "
   ]
  },
  {
   "cell_type": "code",
   "execution_count": 82,
   "id": "2b757d58",
   "metadata": {},
   "outputs": [
    {
     "name": "stdout",
     "output_type": "stream",
     "text": [
      "Beyond century :  469\n"
     ]
    }
   ],
   "source": [
    "addition()"
   ]
  },
  {
   "cell_type": "markdown",
   "id": "41a32353",
   "metadata": {},
   "source": [
    "# 1. String"
   ]
  },
  {
   "cell_type": "code",
   "execution_count": 85,
   "id": "74408cac",
   "metadata": {},
   "outputs": [
    {
     "name": "stdout",
     "output_type": "stream",
     "text": [
      "what is the value im the 1st location:  U\n"
     ]
    }
   ],
   "source": [
    "Name =\"LUTHOR\"\n",
    "print(\"what is the value im the {}st location: \".format(1), Name[1])"
   ]
  },
  {
   "cell_type": "code",
   "execution_count": 86,
   "id": "c08c1b20",
   "metadata": {},
   "outputs": [
    {
     "name": "stdout",
     "output_type": "stream",
     "text": [
      "Count the entered character  1\n"
     ]
    }
   ],
   "source": [
    "Name = \"LUTHOR\"\n",
    "print(\"Count the entered character \", Name.count(\"LU\"))"
   ]
  },
  {
   "cell_type": "code",
   "execution_count": 87,
   "id": "116f5a33",
   "metadata": {},
   "outputs": [
    {
     "name": "stdout",
     "output_type": "stream",
     "text": [
      "upper\n",
      "alpha\n",
      "Alphabet and numbers\n"
     ]
    }
   ],
   "source": [
    "Name = \"LUTHOR\"\n",
    "if Name.islower():\n",
    "    print(\"lower\")\n",
    "if Name.isupper():\n",
    "    print(\"upper\")\n",
    "if Name.isalpha():\n",
    "    print(\"alpha\")\n",
    "if Name.isalnum():\n",
    "    print(\"Alphabet and numbers\")\n",
    "if Name.isdigit():\n",
    "    print(\"Numbers\")"
   ]
  },
  {
   "cell_type": "code",
   "execution_count": 91,
   "id": "b5e4db2e",
   "metadata": {},
   "outputs": [
    {
     "name": "stdout",
     "output_type": "stream",
     "text": [
      "Name to lower case: luthor\n",
      "Name to upper case: LUTHOR\n",
      "Name to swapcase: luthor\n"
     ]
    }
   ],
   "source": [
    "Name = \"LUTHOR\"\n",
    "print(\"Name to lower case: {}\".format(Name.lower()))\n",
    "print(\"Name to upper case: {}\".format(Name.upper()))\n",
    "print(\"Name to swapcase: {}\".format(Name.swapcase()))\n"
   ]
  },
  {
   "cell_type": "code",
   "execution_count": 104,
   "id": "2f77b0cc",
   "metadata": {},
   "outputs": [
    {
     "name": "stdout",
     "output_type": "stream",
     "text": [
      "Name: LUTHOR\n",
      "LUTHOR\n",
      "luthor\n",
      "luthor\n",
      "Luthor\n"
     ]
    }
   ],
   "source": [
    "Name = \"LUTHOR\"\n",
    "print(\"Name: {}\".format(Name.upper()))\n",
    "print(Name.upper())\n",
    "print(Name.lower())\n",
    "print(Name.swapcase())\n",
    "print(Name.capitalize())"
   ]
  },
  {
   "cell_type": "code",
   "execution_count": 106,
   "id": "ebca56d5",
   "metadata": {},
   "outputs": [
    {
     "name": "stdout",
     "output_type": "stream",
     "text": [
      " Starting from 1 all the way to 14 with a step of 2 :  e uhrws\n"
     ]
    }
   ],
   "source": [
    "Sentence = \"Lex Luthor was a villan in the superman comics\"\n",
    "print(\" Starting from 1 all the way to 14 with a step of 2 : \", Sentence[1:14:2])"
   ]
  },
  {
   "cell_type": "code",
   "execution_count": 109,
   "id": "ab97ab0d",
   "metadata": {},
   "outputs": [
    {
     "name": "stdout",
     "output_type": "stream",
     "text": [
      "words :  ['Lex', 'Luthor', 'was', 'a', 'villan', 'in', 'the', 'superman', 'comics']\n",
      "9\n"
     ]
    }
   ],
   "source": [
    "Sentence = \"Lex Luthor was a villan in the superman comics\"\n",
    "print(\"words : \", Sentence.split(' '))\n",
    "print(len(Sentence.split(' ')))"
   ]
  },
  {
   "cell_type": "code",
   "execution_count": 110,
   "id": "b2a2d31d",
   "metadata": {},
   "outputs": [
    {
     "name": "stdout",
     "output_type": "stream",
     "text": [
      "Lex Luthor was a villan in the superman comics\n"
     ]
    }
   ],
   "source": [
    "Sentence = \" Lex Luthor was a villan in the superman comics    \"\n",
    "sentence = Sentence.strip()\n",
    "print(sentence)\n"
   ]
  },
  {
   "cell_type": "code",
   "execution_count": 144,
   "id": "6cbef202",
   "metadata": {},
   "outputs": [
    {
     "name": "stdout",
     "output_type": "stream",
     "text": [
      "Lex Luthor was a villan in the superman comics\n",
      "['Lex', 'Luthor', 'was', 'a', 'villan', 'in', 'the', 'superman', 'comics']\n",
      " Lex Luthor was a villan in the superman comics\n",
      "Lex Luthor was a villan in the superman comics\n",
      "46\n"
     ]
    }
   ],
   "source": [
    "Sentence = \"Lex Luthor was a villan in the superman comics\"\n",
    "Sentence = Sentence.strip()\n",
    "print(Sentence)\n",
    "\n",
    "list_of_words = Sentence.split(' ')\n",
    "print(list_of_words)\n",
    "new_sentence = ''\n",
    "for i in list_of_words:\n",
    "    if i.isalnum():\n",
    "        new_sentence += ' ' + i \n",
    "        \n",
    "print(new_sentence)\n",
    "print(new_sentence.lstrip())\n",
    "print(len(new_sentence.lstrip()))"
   ]
  },
  {
   "cell_type": "code",
   "execution_count": 1,
   "id": "4931572f",
   "metadata": {},
   "outputs": [
    {
     "name": "stdout",
     "output_type": "stream",
     "text": [
      "Enter a sentence: Lex Luthor was a villan in the superman comics\n"
     ]
    },
    {
     "ename": "TypeError",
     "evalue": "word_count() takes 0 positional arguments but 1 was given",
     "output_type": "error",
     "traceback": [
      "\u001b[1;31m---------------------------------------------------------------------------\u001b[0m",
      "\u001b[1;31mTypeError\u001b[0m                                 Traceback (most recent call last)",
      "\u001b[1;32m~\\AppData\\Local\\Temp/ipykernel_5520/1115436109.py\u001b[0m in \u001b[0;36m<module>\u001b[1;34m\u001b[0m\n\u001b[0;32m      3\u001b[0m \u001b[1;31m# User input\u001b[0m\u001b[1;33m\u001b[0m\u001b[1;33m\u001b[0m\u001b[0m\n\u001b[0;32m      4\u001b[0m \u001b[0msentence\u001b[0m \u001b[1;33m=\u001b[0m \u001b[0minput\u001b[0m\u001b[1;33m(\u001b[0m\u001b[1;34m\"Enter a sentence: \"\u001b[0m\u001b[1;33m)\u001b[0m\u001b[1;33m\u001b[0m\u001b[1;33m\u001b[0m\u001b[0m\n\u001b[1;32m----> 5\u001b[1;33m \u001b[0mword_count\u001b[0m\u001b[1;33m(\u001b[0m\u001b[0msentence\u001b[0m\u001b[1;33m)\u001b[0m\u001b[1;33m\u001b[0m\u001b[1;33m\u001b[0m\u001b[0m\n\u001b[0m",
      "\u001b[1;31mTypeError\u001b[0m: word_count() takes 0 positional arguments but 1 was given"
     ]
    }
   ],
   "source": [
    "def word_count():\n",
    "    print(\"The number of words is : \", len(sentence))\n",
    "# User input\n",
    "sentence = input(\"Enter a sentence: \")\n",
    "word_count(sentence)"
   ]
  },
  {
   "cell_type": "code",
   "execution_count": 1,
   "id": "ebd475fb",
   "metadata": {},
   "outputs": [],
   "source": [
    "def word_preprocess(sentence):\n",
    "    sentence = sentence.strip()\n",
    "    list_of_word = sentence.split(' ')\n",
    "    new_sentence= ' '\n",
    "    for i in list_of_word:\n",
    "       \n",
    "        if i.isalnum():\n",
    "            new_sentence += ' '+ i\n",
    "            new_sentence = new_sentence.lstrip()\n",
    "    return new_sentence"
   ]
  },
  {
   "cell_type": "code",
   "execution_count": 2,
   "id": "847e66c5",
   "metadata": {},
   "outputs": [
    {
     "data": {
      "text/plain": [
       "'Lex Luthor was a villan in the superman comics'"
      ]
     },
     "execution_count": 2,
     "metadata": {},
     "output_type": "execute_result"
    }
   ],
   "source": [
    "word_preprocess(\"Lex Luthor was a villan in the superman comics\")"
   ]
  },
  {
   "cell_type": "code",
   "execution_count": 4,
   "id": "1df65851",
   "metadata": {},
   "outputs": [
    {
     "name": "stdout",
     "output_type": "stream",
     "text": [
      "Enter a sentence: Lex Luthor was a villan in the superman comics\n",
      "The number of words is :  9\n"
     ]
    }
   ],
   "source": [
    "def word_preprocess(sentence):\n",
    "    sentence = sentence.strip()\n",
    "    list_of_word = sentence.split(' ')\n",
    "    new_sentence= ' '\n",
    "    for i in list_of_word:\n",
    "       \n",
    "        if i.isalnum():\n",
    "            new_sentence += ' '+ i\n",
    "            new_sentence = new_sentence.lstrip()\n",
    "    return new_sentence\n",
    "\n",
    "def word_count(sentence):\n",
    "    print(\"The number of words is : \", len(sentence.split(' ')))\n",
    "# User input\n",
    "sentence = input(\"Enter a sentence: \")\n",
    "processed_sentence = word_preprocess(sentence)\n",
    "word_count(processed_sentence)"
   ]
  },
  {
   "cell_type": "code",
   "execution_count": null,
   "id": "b39c43b2",
   "metadata": {},
   "outputs": [],
   "source": [
    "import random\n",
    "\n",
    "x = input(\"Enter any number between 0,1 and 2: \")\n",
    "\n",
    "y = rand"
   ]
  },
  {
   "cell_type": "code",
   "execution_count": null,
   "id": "91e6932d",
   "metadata": {},
   "outputs": [],
   "source": []
  }
 ],
 "metadata": {
  "kernelspec": {
   "display_name": "Python 3 (ipykernel)",
   "language": "python",
   "name": "python3"
  },
  "language_info": {
   "codemirror_mode": {
    "name": "ipython",
    "version": 3
   },
   "file_extension": ".py",
   "mimetype": "text/x-python",
   "name": "python",
   "nbconvert_exporter": "python",
   "pygments_lexer": "ipython3",
   "version": "3.9.7"
  }
 },
 "nbformat": 4,
 "nbformat_minor": 5
}
