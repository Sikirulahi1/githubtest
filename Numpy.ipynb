{
 "cells": [
  {
   "cell_type": "code",
   "execution_count": 1,
   "id": "3ed5ce4f",
   "metadata": {},
   "outputs": [],
   "source": [
    "# Numpy stands for numerical python\n",
    "# It can only have homogenous data in it (i.e all element have thr same datatype)"
   ]
  },
  {
   "cell_type": "code",
   "execution_count": 4,
   "id": "034992fa",
   "metadata": {},
   "outputs": [
    {
     "name": "stdout",
     "output_type": "stream",
     "text": [
      "Requirement already satisfied: numpy in c:\\programdata\\anaconda3\\lib\\site-packages (1.20.3)\n"
     ]
    }
   ],
   "source": [
    "!pip install numpy"
   ]
  },
  {
   "cell_type": "code",
   "execution_count": 5,
   "id": "20f14585",
   "metadata": {},
   "outputs": [
    {
     "name": "stdout",
     "output_type": "stream",
     "text": [
      "package successfully imported\n"
     ]
    }
   ],
   "source": [
    "import numpy as np\n",
    "print('package successfully imported')"
   ]
  },
  {
   "cell_type": "code",
   "execution_count": 10,
   "id": "cd9586bb",
   "metadata": {},
   "outputs": [
    {
     "name": "stdout",
     "output_type": "stream",
     "text": [
      "<class 'list'>\n",
      "[1, 2, 3, 4, 5]\n",
      "\n",
      "[1 2 3 4 5]\n",
      "<class 'numpy.ndarray'>\n"
     ]
    }
   ],
   "source": [
    "# Creating 1D array from a list\n",
    "\n",
    "list_var = [1, 2, 3, 4, 5]\n",
    "print(type(list_var))\n",
    "\n",
    "print(list_var, end ='\\n\\n')\n",
    "# To convert list to an array, we use array function\n",
    "list_to_array = np.array(list_var)\n",
    "print(list_to_array)\n",
    "print(type(list_to_array))"
   ]
  },
  {
   "cell_type": "code",
   "execution_count": 15,
   "id": "f8aebd49",
   "metadata": {},
   "outputs": [
    {
     "name": "stdout",
     "output_type": "stream",
     "text": [
      "<class 'tuple'>\n",
      "(1, 2, 3, 4, 5)\n",
      "<class 'numpy.ndarray'>\n",
      "[1 2 3 4 5]\n"
     ]
    }
   ],
   "source": [
    "# Creating 1D array from a tuple\n",
    "tuple_var = (1, 2, 3, 4, 5) \n",
    "tuple_to_array = np.array(tuple_var)\n",
    "print(type(tuple_var))\n",
    "print(tuple_var)\n",
    "print(type(tuple_to_array))\n",
    "print(tuple_to_array)"
   ]
  },
  {
   "cell_type": "code",
   "execution_count": 17,
   "id": "1b41d7ee",
   "metadata": {},
   "outputs": [
    {
     "name": "stdout",
     "output_type": "stream",
     "text": [
      "[1, 2, 3, 4, 5.5, 6.0]\n",
      "[1.  2.  3.  4.  5.5 6. ]\n",
      "<class 'list'>\n",
      "<class 'numpy.ndarray'>\n"
     ]
    }
   ],
   "source": [
    "# homogenous data\n",
    "# decimals has greater order than the whole numbers\n",
    "\n",
    "list_var = [1, 2, 3, 4, 5.5, 6.0]\n",
    "print(list_var)\n",
    "list_to_array = np.array(list_var)\n",
    "print(list_to_array)\n",
    "print(type(list_var))\n",
    "print(type(list_to_array))"
   ]
  },
  {
   "cell_type": "code",
   "execution_count": 18,
   "id": "a62bab82",
   "metadata": {},
   "outputs": [
    {
     "name": "stdout",
     "output_type": "stream",
     "text": [
      "[1, 2, 3, 4, 5.5, 6.0, 'e']\n",
      "['1' '2' '3' '4' '5.5' '6.0' 'e']\n",
      "<class 'list'>\n",
      "<class 'numpy.ndarray'>\n"
     ]
    }
   ],
   "source": [
    "# String data type has the greater oorder than decimal and whole numbers\n",
    "list_var = [1, 2, 3, 4, 5.5, 6.0, 'e']\n",
    "print(list_var)\n",
    "list_to_array = np.array(list_var)\n",
    "print(list_to_array)\n",
    "print(type(list_var))\n",
    "print(type(list_to_array))"
   ]
  },
  {
   "cell_type": "markdown",
   "id": "6b658740",
   "metadata": {},
   "source": [
    "# Dimensions in arrays"
   ]
  },
  {
   "cell_type": "code",
   "execution_count": 28,
   "id": "2f0a0cba",
   "metadata": {},
   "outputs": [
    {
     "name": "stdout",
     "output_type": "stream",
     "text": [
      "array 2D: \n",
      "\n",
      "[[5.2 3.  4.5]\n",
      " [9.1 0.1 0.3]]\n"
     ]
    }
   ],
   "source": [
    "# Multiple 1D array make a 2D array\n",
    "array_2d = np.array([[5.2, 3.0, 4.5], [9.1, 0.1, 0.3]])\n",
    "print(\"array 2D: \", array_2d, sep='\\n\\n')"
   ]
  },
  {
   "cell_type": "code",
   "execution_count": 37,
   "id": "2e87b3ab",
   "metadata": {},
   "outputs": [
    {
     "name": "stdout",
     "output_type": "stream",
     "text": [
      "array_3d\n",
      "\n",
      "[[[ 5.2  3.   4.5]\n",
      "  [ 9.1  0.1  0.3]]\n",
      "\n",
      " [[10.  11.  12. ]\n",
      "  [ 7.   8.   9. ]]]\n"
     ]
    }
   ],
   "source": [
    "# Multiple 2D array make a 3D array\n",
    "array_3d = np.array([[[5.2, 3.0, 4.5], [9.1, 0.1, 0.3]], [[10, 11, 12],[7, 8, 9]]])\n",
    "print(\"array_3d\",array_3d, sep='\\n\\n')"
   ]
  },
  {
   "cell_type": "code",
   "execution_count": null,
   "id": "24b01214",
   "metadata": {},
   "outputs": [],
   "source": [
    "07032731313"
   ]
  },
  {
   "cell_type": "markdown",
   "id": "0d1b4e33",
   "metadata": {},
   "source": [
    "# How Numpy is better"
   ]
  },
  {
   "cell_type": "markdown",
   "id": "8d99da9b",
   "metadata": {},
   "source": [
    "Q. Add each list element index to index and create a new list.\n",
    "1. list_1 = [1, 2, 3, 4, 5]\n",
    "2. list_2 = [6, 7, 8, 9, 10]"
   ]
  },
  {
   "cell_type": "code",
   "execution_count": 42,
   "id": "e4f88a7f",
   "metadata": {},
   "outputs": [
    {
     "name": "stdout",
     "output_type": "stream",
     "text": [
      "[7, 9, 11, 13, 15, 16]\n"
     ]
    }
   ],
   "source": [
    "list_1 = [1, 2, 3, 4, 5, 6]\n",
    "list_2 = [6, 7, 8, 9, 10, 10]\n",
    "sum_list = []\n",
    "length_1 = len(list_1)\n",
    "length_2 = len(list_2)\n",
    "min_length = min(length_1, length_2)\n",
    "\n",
    "for i in range(0, min_length):\n",
    "    sum_list.append(list_1[i] + list_2[i])\n",
    "print(sum_list)"
   ]
  },
  {
   "cell_type": "code",
   "execution_count": 44,
   "id": "f88e04be",
   "metadata": {},
   "outputs": [
    {
     "name": "stdout",
     "output_type": "stream",
     "text": [
      "[7, 9, 11, 13, 15, 16]\n"
     ]
    }
   ],
   "source": [
    "list_1 = [1, 2, 3, 4, 5, 6]\n",
    "list_2 = [6, 7, 8, 9, 10, 10]\n",
    "sum_list = list(map(lambda x, y : x + y, list_1 , list_2))\n",
    "print(sum_list)"
   ]
  },
  {
   "cell_type": "code",
   "execution_count": 46,
   "id": "6d7f839a",
   "metadata": {},
   "outputs": [
    {
     "name": "stdout",
     "output_type": "stream",
     "text": [
      "[ 7  9 11 13 15 16]\n"
     ]
    }
   ],
   "source": [
    "# You can easily solve list additions using numpy\n",
    "list_1 = [1, 2, 3, 4, 5, 6]\n",
    "list_2 = [6, 7, 8, 9, 10, 10]\n",
    "array_1 = np.array(list_1)\n",
    "array_2 = np.array(list_2)\n",
    "sum_list = array_1 + array_2\n",
    "print(sum_list)"
   ]
  },
  {
   "cell_type": "code",
   "execution_count": 49,
   "id": "9240f69d",
   "metadata": {},
   "outputs": [
    {
     "name": "stdout",
     "output_type": "stream",
     "text": [
      "Checking for the condition [False False  True  True  True  True]\n",
      "\n",
      "What are the values that satisfy the condition [3 4 5 6]\n"
     ]
    }
   ],
   "source": [
    " array_1_bool = array_1 >= 3\n",
    "print(\"Checking for the condition\", array_1_bool, end='\\n\\n')\n",
    "print(\"What are the values that satisfy the condition\", array_1[array_1_bool])"
   ]
  },
  {
   "cell_type": "code",
   "execution_count": 50,
   "id": "eee0f965",
   "metadata": {},
   "outputs": [
    {
     "data": {
      "text/plain": [
       "array([3, 4, 5, 6])"
      ]
     },
     "execution_count": 50,
     "metadata": {},
     "output_type": "execute_result"
    }
   ],
   "source": [
    "# Simplifying the above cloud\n",
    "array_1[array_1 > 2]"
   ]
  },
  {
   "cell_type": "code",
   "execution_count": 62,
   "id": "7bc072b1",
   "metadata": {},
   "outputs": [
    {
     "name": "stdout",
     "output_type": "stream",
     "text": [
      "First array: \n",
      " [[1 2 3]\n",
      " [4 5 6]]\n",
      "\n",
      "Second array: \n",
      " [[11 12 13]\n",
      " [14 15 16]]\n",
      "\n",
      "Final array: \n",
      " [[12 14 16]\n",
      " [18 20 22]]\n",
      "\n"
     ]
    }
   ],
   "source": [
    "# Adding 2d arrays\n",
    "list_1 = [[1, 2, 3], [4, 5, 6]]\n",
    "list_2 = [[11, 12, 13], [14, 15, 16]]\n",
    "\n",
    "arr_1 = np.array(list_1)\n",
    "arr_2 = np.array(list_2)\n",
    "print(\"First array: \\n\", arr_1, end ='\\n\\n')\n",
    "print(\"Second array: \\n\", arr_2, end= '\\n\\n')\n",
    "print(\"Final array: \\n\", arr_1 + arr_2, end='\\n\\n')"
   ]
  },
  {
   "cell_type": "markdown",
   "id": "29b0a7a5",
   "metadata": {},
   "source": [
    "# Numpy Functions"
   ]
  },
  {
   "cell_type": "markdown",
   "id": "b386c586",
   "metadata": {},
   "source": [
    "## Arrange Functions"
   ]
  },
  {
   "cell_type": "code",
   "execution_count": 68,
   "id": "2816b5e6",
   "metadata": {},
   "outputs": [
    {
     "name": "stdout",
     "output_type": "stream",
     "text": [
      "Using complex nested  function:\n",
      " [ 1  3  5  7  9 11 13]\n",
      "\n",
      "Using simple numpy function:\n",
      " [ 1  3  5  7  9 11 13]\n"
     ]
    }
   ],
   "source": [
    "# Arrange functions, (increment factor) spelt as arange\n",
    "arange_array = np.array(list(range(1, 15, 2)))\n",
    "print(\"Using complex nested  function:\\n\", arange_array, end='\\n\\n')\n",
    "\n",
    "arange_array = np.arange(1, 15, 2)\n",
    "print(\"Using simple numpy function:\\n\", arange_array)"
   ]
  },
  {
   "cell_type": "code",
   "execution_count": 69,
   "id": "4c3d05db",
   "metadata": {},
   "outputs": [
    {
     "name": "stdout",
     "output_type": "stream",
     "text": [
      "[15 13 11  9  7  5  3  1]\n"
     ]
    }
   ],
   "source": [
    "# Arrange functions, (decreament factor) spelt as arange\n",
    "\n",
    "arrange_array = np.arange(15, 0, -2)\n",
    "print(arrange_array)"
   ]
  },
  {
   "cell_type": "code",
   "execution_count": 79,
   "id": "56ae3879",
   "metadata": {},
   "outputs": [
    {
     "name": "stdout",
     "output_type": "stream",
     "text": [
      "1D array:\n",
      " [0 0 0 0 0]\n",
      "2D array:\n",
      "\n",
      "[[0 0 0 0 0]\n",
      " [0 0 0 0 0]\n",
      " [0 0 0 0 0]\n",
      " [0 0 0 0 0]\n",
      " [0 0 0 0 0]]\n"
     ]
    }
   ],
   "source": [
    "zero_array_1d = np.zeros((5), dtype = int)\n",
    "print(\"1D array:\\n\", zero_array_1d)\n",
    "\n",
    "zero_array_2d = np.zeros((5, 5), dtype= int)\n",
    "print(\"2D array:\\n\", zero_array_2d, sep='\\n')"
   ]
  },
  {
   "cell_type": "code",
   "execution_count": 82,
   "id": "be1c8ecb",
   "metadata": {},
   "outputs": [
    {
     "name": "stdout",
     "output_type": "stream",
     "text": [
      "1D array:\n",
      " [1. 1. 1. 1. 1.]\n",
      "2D array:\n",
      "[[1 1 1 1 1]\n",
      " [1 1 1 1 1]\n",
      " [1 1 1 1 1]\n",
      " [1 1 1 1 1]\n",
      " [1 1 1 1 1]]\n"
     ]
    }
   ],
   "source": [
    "one_array_1d = np.ones(5)\n",
    "print(\"1D array:\\n\", one_array_1d)\n",
    "\n",
    "one_array_2d = np.ones((5, 5), dtype= int)\n",
    "print(\"2D array:\\n\", one_array_2d, sep = '')"
   ]
  },
  {
   "cell_type": "code",
   "execution_count": 8,
   "id": "8854f469",
   "metadata": {},
   "outputs": [
    {
     "name": "stdout",
     "output_type": "stream",
     "text": [
      "[[0 0 0 0 0]\n",
      " [0 0 0 0 0]\n",
      " [0 0 0 0 0]\n",
      " [0 0 0 0 0]\n",
      " [0 0 0 0 0]]\n"
     ]
    }
   ],
   "source": [
    "import numpy as np\n",
    "zero_array_2d = np.zeros((5, 5), dtype =int)\n",
    "print(zero_array_2d)"
   ]
  },
  {
   "cell_type": "code",
   "execution_count": 10,
   "id": "31d3918e",
   "metadata": {},
   "outputs": [
    {
     "name": "stdout",
     "output_type": "stream",
     "text": [
      "[[1 1 1 1 1 1]\n",
      " [1 1 1 1 1 1]\n",
      " [1 1 1 1 1 1]\n",
      " [1 1 1 1 1 1]\n",
      " [1 1 1 1 1 1]\n",
      " [1 1 1 1 1 1]]\n"
     ]
    }
   ],
   "source": [
    "one_array_2d = np.ones((6, 6), dtype=int)\n",
    "print(one_array_2d)"
   ]
  },
  {
   "cell_type": "code",
   "execution_count": 11,
   "id": "70b2aa6c",
   "metadata": {},
   "outputs": [],
   "source": [
    "# Instead of having zeros and ones in the array.\n",
    "# we can also have an array of numbers other than zeros and ones\n",
    "# The function called np.full(shape= \"\", fill_value=\" \")"
   ]
  },
  {
   "cell_type": "code",
   "execution_count": 23,
   "id": "8ae7fc6b",
   "metadata": {},
   "outputs": [
    {
     "name": "stdout",
     "output_type": "stream",
     "text": [
      "[5 5 5 5 5]\n",
      "\n",
      "[[3 3 3 3 3]\n",
      " [3 3 3 3 3]\n",
      " [3 3 3 3 3]\n",
      " [3 3 3 3 3]\n",
      " [3 3 3 3 3]]\n"
     ]
    }
   ],
   "source": [
    "print(np.full(shape= 5,fill_value = 5),end =\"\\n\\n\")\n",
    "print(np.full(shape=(5, 5), dtype=int, fill_value=3))"
   ]
  },
  {
   "cell_type": "code",
   "execution_count": 26,
   "id": "9446d128",
   "metadata": {},
   "outputs": [
    {
     "data": {
      "text/plain": [
       "array([[0.20886456, 0.90642778, 0.76560256],\n",
       "       [0.85574242, 0.7989264 , 0.36634587],\n",
       "       [0.67738052, 0.29345814, 0.16715695]])"
      ]
     },
     "execution_count": 26,
     "metadata": {},
     "output_type": "execute_result"
    }
   ],
   "source": [
    "# Sometimes you need random values\n",
    "np.random.random((3, 3))"
   ]
  },
  {
   "cell_type": "code",
   "execution_count": 46,
   "id": "50775453",
   "metadata": {},
   "outputs": [
    {
     "name": "stdout",
     "output_type": "stream",
     "text": [
      "[ 9 14  9  7 12  3 12  9  8  3]\n"
     ]
    },
    {
     "data": {
      "text/plain": [
       "array([[ 2, 12,  6],\n",
       "       [11,  5, 13],\n",
       "       [ 5,  6,  8]])"
      ]
     },
     "execution_count": 46,
     "metadata": {},
     "output_type": "execute_result"
    }
   ],
   "source": [
    "# Random.randint and random.seed significance\n",
    "np.random.seed(2)\n",
    "print(np.random.randint(low = 1,high = 15, size = 10))\n",
    "np.random.randint(low=1,high=15,size=(3,3))"
   ]
  },
  {
   "cell_type": "code",
   "execution_count": 36,
   "id": "9ef21ff4",
   "metadata": {},
   "outputs": [
    {
     "name": "stdout",
     "output_type": "stream",
     "text": [
      "[ 2 13  4  2  4  7  8 11  5  1]\n"
     ]
    }
   ],
   "source": [
    "print(np.random.randint(low = 1,high = 15, size = 10))"
   ]
  },
  {
   "cell_type": "code",
   "execution_count": 40,
   "id": "b5091083",
   "metadata": {},
   "outputs": [
    {
     "data": {
      "text/plain": [
       "array([[11,  9,  3],\n",
       "       [14, 14,  5],\n",
       "       [14,  3,  4]])"
      ]
     },
     "execution_count": 40,
     "metadata": {},
     "output_type": "execute_result"
    }
   ],
   "source": [
    "np.random.randint(low=1,high=15,size=(3,3))"
   ]
  },
  {
   "cell_type": "code",
   "execution_count": 47,
   "id": "f1dfc20b",
   "metadata": {},
   "outputs": [
    {
     "data": {
      "text/plain": [
       "array([[1, 0, 0, 0, 0],\n",
       "       [0, 1, 0, 0, 0],\n",
       "       [0, 0, 1, 0, 0],\n",
       "       [0, 0, 0, 1, 0],\n",
       "       [0, 0, 0, 0, 1]])"
      ]
     },
     "execution_count": 47,
     "metadata": {},
     "output_type": "execute_result"
    }
   ],
   "source": [
    "# Identity matrix\n",
    "# Important\n",
    "np.eye(5,dtype=int)"
   ]
  },
  {
   "cell_type": "code",
   "execution_count": 48,
   "id": "3855902f",
   "metadata": {},
   "outputs": [
    {
     "data": {
      "text/plain": [
       "array([[1, 0, 0, 0, 0],\n",
       "       [0, 1, 0, 0, 0],\n",
       "       [0, 0, 1, 0, 0]])"
      ]
     },
     "execution_count": 48,
     "metadata": {},
     "output_type": "execute_result"
    }
   ],
   "source": [
    "# Generally, and identity matrix is a square matrix\n",
    "# we could change the order\n",
    "np.eye(N = 3, M = 5, dtype= int)"
   ]
  },
  {
   "cell_type": "code",
   "execution_count": 58,
   "id": "72cd54f5",
   "metadata": {},
   "outputs": [
    {
     "name": "stdout",
     "output_type": "stream",
     "text": [
      "[ 1  3  6  9 12 14 17 20 23 26 28 31 34 37 40]\n"
     ]
    },
    {
     "data": {
      "text/plain": [
       "(15,)"
      ]
     },
     "execution_count": 58,
     "metadata": {},
     "output_type": "execute_result"
    }
   ],
   "source": [
    "# linspace is used when the size  and the range of the output is known but the stepsize is not known\n",
    "arr_1 = np.linspace(1, 40, 15, dtype= int)\n",
    "print(arr_1)\n",
    "arr_1.shape"
   ]
  },
  {
   "cell_type": "code",
   "execution_count": 62,
   "id": "09b7a984",
   "metadata": {},
   "outputs": [
    {
     "data": {
      "text/plain": [
       "array([[ 1,  8, 16],\n",
       "       [24, 32, 40]])"
      ]
     },
     "execution_count": 62,
     "metadata": {},
     "output_type": "execute_result"
    }
   ],
   "source": [
    "np.linspace(1, 40, 6, dtype= int).reshape(2, 3)"
   ]
  },
  {
   "cell_type": "code",
   "execution_count": 63,
   "id": "6f6d6e04",
   "metadata": {},
   "outputs": [
    {
     "data": {
      "text/plain": [
       "array([1, 2, 3, 1, 2, 3])"
      ]
     },
     "execution_count": 63,
     "metadata": {},
     "output_type": "execute_result"
    }
   ],
   "source": [
    "np.tile([1, 2, 3], 2)"
   ]
  },
  {
   "cell_type": "code",
   "execution_count": 65,
   "id": "62825791",
   "metadata": {},
   "outputs": [
    {
     "name": "stdout",
     "output_type": "stream",
     "text": [
      "2D: \n",
      " [[1 2 3 1 2 3 1 2 3]\n",
      " [1 2 3 1 2 3 1 2 3]\n",
      " [1 2 3 1 2 3 1 2 3]]\n"
     ]
    }
   ],
   "source": [
    "print(\"2D: \\n\",np.tile([1, 2, 3], (3, 3)))"
   ]
  },
  {
   "cell_type": "code",
   "execution_count": 90,
   "id": "bd9806da",
   "metadata": {},
   "outputs": [
    {
     "name": "stdout",
     "output_type": "stream",
     "text": [
      "arr_1: \n",
      " [[1 2 3]\n",
      " [1 2 3]\n",
      " [1 2 3]]\n",
      "\n",
      "arr_2: \n",
      " [[ 2  4  6]\n",
      " [ 8 10 12]\n",
      " [14 16 18]]\n",
      "\n",
      "New arr: \n",
      " [[ 3  6  9]\n",
      " [ 9 12 15]\n",
      " [15 18 21]]\n"
     ]
    }
   ],
   "source": [
    "arr_1 = np.tile([1, 2, 3], (3,1))\n",
    "print(\"arr_1: \\n\",arr_1, end =\"\\n\\n\")\n",
    "\n",
    "arr_2 = np.arange(2, 20, 2).reshape(3, 3)\n",
    "print(\"arr_2: \\n\",arr_2, end =\"\\n\\n\")\n",
    "\n",
    "new_arr = arr_1 + arr_2\n",
    "print(\"New arr: \\n\",new_arr)"
   ]
  },
  {
   "cell_type": "code",
   "execution_count": 94,
   "id": "d6c457a0",
   "metadata": {},
   "outputs": [
    {
     "data": {
      "text/plain": [
       "array([[ 2,  4,  6],\n",
       "       [ 8, 11, 13],\n",
       "       [15, 17, 20]])"
      ]
     },
     "execution_count": 94,
     "metadata": {},
     "output_type": "execute_result"
    }
   ],
   "source": [
    "np.linspace(2, 20, 9, dtype=int).reshape(3, 3)"
   ]
  },
  {
   "cell_type": "markdown",
   "id": "58f03be1",
   "metadata": {},
   "source": [
    "# Structure"
   ]
  },
  {
   "cell_type": "code",
   "execution_count": 102,
   "id": "21552f5a",
   "metadata": {},
   "outputs": [
    {
     "name": "stdout",
     "output_type": "stream",
     "text": [
      "[[1 2 3]\n",
      " [1 2 3]\n",
      " [1 2 3]]\n",
      "\n",
      "Data type: int32\n",
      "Data shape: (3, 3)\n",
      "Data number of dimension: 2\n"
     ]
    }
   ],
   "source": [
    "array = np.tile([1, 2, 3], (3, 1))\n",
    "print(array, end=\"\\n\\n\")\n",
    "print(\"Data type:\", array.dtype)\n",
    "print(\"Data shape:\", array.shape)\n",
    "print(\"Data number of dimension:\", array.ndim)"
   ]
  },
  {
   "cell_type": "code",
   "execution_count": 108,
   "id": "f9028fa0",
   "metadata": {},
   "outputs": [
    {
     "name": "stdout",
     "output_type": "stream",
     "text": [
      "First row: [1 2 3]\n",
      "Zeroth element:  1\n",
      "Zeroth element:  1\n",
      "First 2 element: [1 2]\n",
      "Reverse of the first row: [3 2 1]\n"
     ]
    }
   ],
   "source": [
    "# Indexing, subsetting and slicing\n",
    "print(\"First row:\", array[1])\n",
    "print(\"Zeroth element: \", array[1][0])\n",
    "print(\"Zeroth element: \", array[1,0])\n",
    "print(\"First 2 element:\", array[1,:2])\n",
    "print(\"Reverse of the first row:\", array[1,::-1])"
   ]
  },
  {
   "cell_type": "code",
   "execution_count": 126,
   "id": "50114b09",
   "metadata": {},
   "outputs": [
    {
     "name": "stdout",
     "output_type": "stream",
     "text": [
      "0.0\n"
     ]
    }
   ],
   "source": [
    "import time\n",
    "start_time = time.time()\n",
    "\n",
    "end_time = time.time()\n",
    "time = end_time - start_time\n",
    "print(time)"
   ]
  },
  {
   "cell_type": "code",
   "execution_count": 3,
   "id": "41d66b44",
   "metadata": {},
   "outputs": [],
   "source": [
    "import numpy as np"
   ]
  },
  {
   "cell_type": "code",
   "execution_count": 10,
   "id": "ddbd3e16",
   "metadata": {},
   "outputs": [
    {
     "data": {
      "text/plain": [
       "array([[5, 4],\n",
       "       [3, 4]])"
      ]
     },
     "execution_count": 10,
     "metadata": {},
     "output_type": "execute_result"
    }
   ],
   "source": [
    "# For matrix product, the @ operator can be used of A.dot(B) can also be used\n",
    "A = np.array([[1, 1], [0, 1]])\n",
    "B = np.array([[2, 0], [3, 4]])\n",
    "\n",
    "A @ B\n"
   ]
  },
  {
   "cell_type": "code",
   "execution_count": 11,
   "id": "8fc34f91",
   "metadata": {},
   "outputs": [
    {
     "data": {
      "text/plain": [
       "array([[5, 4],\n",
       "       [3, 4]])"
      ]
     },
     "execution_count": 11,
     "metadata": {},
     "output_type": "execute_result"
    }
   ],
   "source": [
    "A.dot(B)"
   ]
  },
  {
   "cell_type": "code",
   "execution_count": 25,
   "id": "fe16cc42",
   "metadata": {},
   "outputs": [
    {
     "name": "stdout",
     "output_type": "stream",
     "text": [
      "Generator(PCG64)\n",
      "\n",
      "[[1 1 1]\n",
      " [1 1 1]]\n",
      "\n",
      "[[0.51182162 0.9504637  0.14415961]\n",
      " [0.94864945 0.31183145 0.42332645]]\n"
     ]
    },
    {
     "data": {
      "text/plain": [
       "array([[4, 4, 4],\n",
       "       [4, 4, 4]])"
      ]
     },
     "execution_count": 25,
     "metadata": {},
     "output_type": "execute_result"
    }
   ],
   "source": [
    "# Some operator += and *= act in place to modify an existing array rather than create a new one\n",
    "\n",
    "rg = np.random.default_rng(1)\n",
    "print(rg)\n",
    "print()\n",
    "a = np.ones((2, 3), dtype = int)\n",
    "print(a)\n",
    "print()\n",
    "b = rg.random((2, 3))\n",
    "print(b)\n",
    "a += 3\n",
    "a"
   ]
  },
  {
   "cell_type": "code",
   "execution_count": null,
   "id": "2a2ca626",
   "metadata": {},
   "outputs": [],
   "source": []
  },
  {
   "cell_type": "code",
   "execution_count": null,
   "id": "5b92f9d3",
   "metadata": {},
   "outputs": [],
   "source": []
  },
  {
   "cell_type": "code",
   "execution_count": null,
   "id": "217157c3",
   "metadata": {},
   "outputs": [],
   "source": []
  }
 ],
 "metadata": {
  "kernelspec": {
   "display_name": "Python 3 (ipykernel)",
   "language": "python",
   "name": "python3"
  },
  "language_info": {
   "codemirror_mode": {
    "name": "ipython",
    "version": 3
   },
   "file_extension": ".py",
   "mimetype": "text/x-python",
   "name": "python",
   "nbconvert_exporter": "python",
   "pygments_lexer": "ipython3",
   "version": "3.9.7"
  }
 },
 "nbformat": 4,
 "nbformat_minor": 5
}
